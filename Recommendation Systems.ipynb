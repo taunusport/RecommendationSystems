{
  "nbformat": 4,
  "nbformat_minor": 0,
  "metadata": {
    "kernelspec": {
      "display_name": "Python 3",
      "language": "python",
      "name": "python3"
    },
    "language_info": {
      "codemirror_mode": {
        "name": "ipython",
        "version": 3
      },
      "file_extension": ".py",
      "mimetype": "text/x-python",
      "name": "python",
      "nbconvert_exporter": "python",
      "pygments_lexer": "ipython3",
      "version": "3.7.6-final"
    },
    "colab": {
      "name": "Copy of DS_Proyecto_03_SR.ipynb",
      "provenance": [],
      "collapsed_sections": []
    }
  },
  "cells": [
    {
      "cell_type": "markdown",
      "metadata": {
        "id": "gzJLet17WTzh"
      },
      "source": [
        "# Recommendation systems\n",
        "### We use 3 differents recomendation systems types to find similar result and get the best decision to apply\n",
        "\n",
        "*  Surprise\n",
        "*  Multilabel Encoder - TFIDF\n",
        "*  TFIDF and cosine similarity\n",
        "\n",
        "\n"
      ]
    },
    {
      "source": [
        "---"
      ],
      "cell_type": "markdown",
      "metadata": {}
    },
    {
      "cell_type": "code",
      "execution_count": 73,
      "metadata": {},
      "outputs": [],
      "source": [
        "import itertools\n",
        "import numpy as np\n",
        "import pandas as pd\n",
        "import matplotlib.pyplot as plt\n",
        "import seaborn as sns\n",
        "import nltk\n",
        "import re\n",
        "import seaborn as sns\n",
        "from nltk import FreqDist\n",
        "from nltk.stem import PorterStemmer\n",
        "from nltk.corpus import wordnet\n",
        "from nltk.stem import WordNetLemmatizer\n",
        "from nltk.probability import FreqDist\n",
        "from nltk.tokenize import RegexpTokenizer\n",
        "from nltk.collocations import *\n",
        "from nltk.stem import WordNetLemmatizer\n",
        "from nltk.corpus import wordnet\n",
        "from nltk.tokenize import word_tokenize\n",
        "from sklearn.naive_bayes import GaussianNB\n",
        "from sklearn.ensemble import RandomForestClassifier\n",
        "from sklearn.metrics import confusion_matrix\n",
        "from sklearn.svm import LinearSVC\n",
        "from sklearn.feature_extraction.text import CountVectorizer\n",
        "from sklearn.model_selection import train_test_split\n",
        "from sklearn.metrics import confusion_matrix\n",
        "from sklearn.model_selection import train_test_split\n",
        "from sklearn.model_selection import RandomizedSearchCV\n",
        "from sklearn.model_selection import GridSearchCV\n",
        "from sklearn.ensemble import RandomForestRegressor\n",
        "from sklearn.ensemble import RandomForestClassifier\n",
        "from wordcloud import WordCloud, STOPWORDS \n",
        "from bs4 import BeautifulSoup\n",
        "from PIL import Image\n",
        "from surprise import Dataset\n",
        "from surprise import Reader\n",
        "import requests\n",
        "import gzip\n",
        "import pandas as pd\n",
        "import gc #garbage collector\n",
        "sns.set()\n",
        "reader = Reader()"
      ]
    },
    {
      "cell_type": "code",
      "metadata": {
        "id": "lWZhtUxEWTzj"
      },
      "source": [
        "def parse(path):\n",
        "    g = gzip.open(path, 'r')\n",
        "    for l in g:\n",
        "        yield eval(l)"
      ],
      "execution_count": 74,
      "outputs": []
    },
    {
      "cell_type": "markdown",
      "metadata": {
        "id": "BmEM25k4WTzw"
      },
      "source": [
        "**Reviews**"
      ]
    },
    {
      "cell_type": "code",
      "metadata": {
        "id": "abAXItn1WTz0"
      },
      "source": [
        "contador = 0\n",
        "data_reviews = []\n",
        "# Vamos a guardar una de cada 10 reviews para no llenar la memoria RAM. Si pones n = 3, \n",
        "# abrira uno de cada tres, y asi.\n",
        "n = 10\n",
        "for l in parse('steam_reviews.json.gz'):\n",
        "    if contador%n == 0:\n",
        "        data_reviews.append(l)\n",
        "    else:\n",
        "        pass\n",
        "    contador += 1"
      ],
      "execution_count": 75,
      "outputs": []
    },
    {
      "cell_type": "code",
      "metadata": {
        "id": "7GovAZQBWTz8"
      },
      "source": [
        "data_reviews = pd.DataFrame(data_reviews)"
      ],
      "execution_count": 76,
      "outputs": []
    },
    {
      "cell_type": "code",
      "metadata": {
        "id": "j24F0ZaYWT0E"
      },
      "source": [
        "data_reviews.head()"
      ],
      "execution_count": 77,
      "outputs": [
        {
          "output_type": "execute_result",
          "data": {
            "text/plain": [
              "         username  hours  products product_id  page_order        date  \\\n",
              "0     Chaos Syren    0.1      41.0     725280           0  2017-12-17   \n",
              "1         Ariman1   13.2    1386.0     328100           2  2017-08-02   \n",
              "2     freakfantom    0.1    1706.0     725280           5  2017-11-12   \n",
              "3  The_Cpt_FROGGY    7.8    2217.0     631920           0  2017-12-11   \n",
              "4    the_maker988    8.2      18.0      35140           7  2018-01-02   \n",
              "\n",
              "                                                text  early_access  page  \\\n",
              "0  This would not be acceptable as an entertainme...         False     1   \n",
              "1  Addictive RPG ! Works fine on linux though it ...         False     1   \n",
              "2   Прикольная стрелялка. Взял дешево на распродаже.         False     1   \n",
              "3  Somewhere on Zibylon:\\n~~~~~~~~~~~~~~~~~~\\nZib...         False     1   \n",
              "4  This game was way to linear for me, and compar...         False     1   \n",
              "\n",
              "             user_id               compensation  found_funny  \n",
              "0                NaN                        NaN          NaN  \n",
              "1                NaN                        NaN          NaN  \n",
              "2                NaN                        NaN          NaN  \n",
              "3  76561198003030375  Product received for free          NaN  \n",
              "4  76561198353396844                        NaN          NaN  "
            ],
            "text/html": "<div>\n<style scoped>\n    .dataframe tbody tr th:only-of-type {\n        vertical-align: middle;\n    }\n\n    .dataframe tbody tr th {\n        vertical-align: top;\n    }\n\n    .dataframe thead th {\n        text-align: right;\n    }\n</style>\n<table border=\"1\" class=\"dataframe\">\n  <thead>\n    <tr style=\"text-align: right;\">\n      <th></th>\n      <th>username</th>\n      <th>hours</th>\n      <th>products</th>\n      <th>product_id</th>\n      <th>page_order</th>\n      <th>date</th>\n      <th>text</th>\n      <th>early_access</th>\n      <th>page</th>\n      <th>user_id</th>\n      <th>compensation</th>\n      <th>found_funny</th>\n    </tr>\n  </thead>\n  <tbody>\n    <tr>\n      <th>0</th>\n      <td>Chaos Syren</td>\n      <td>0.1</td>\n      <td>41.0</td>\n      <td>725280</td>\n      <td>0</td>\n      <td>2017-12-17</td>\n      <td>This would not be acceptable as an entertainme...</td>\n      <td>False</td>\n      <td>1</td>\n      <td>NaN</td>\n      <td>NaN</td>\n      <td>NaN</td>\n    </tr>\n    <tr>\n      <th>1</th>\n      <td>Ariman1</td>\n      <td>13.2</td>\n      <td>1386.0</td>\n      <td>328100</td>\n      <td>2</td>\n      <td>2017-08-02</td>\n      <td>Addictive RPG ! Works fine on linux though it ...</td>\n      <td>False</td>\n      <td>1</td>\n      <td>NaN</td>\n      <td>NaN</td>\n      <td>NaN</td>\n    </tr>\n    <tr>\n      <th>2</th>\n      <td>freakfantom</td>\n      <td>0.1</td>\n      <td>1706.0</td>\n      <td>725280</td>\n      <td>5</td>\n      <td>2017-11-12</td>\n      <td>Прикольная стрелялка. Взял дешево на распродаже.</td>\n      <td>False</td>\n      <td>1</td>\n      <td>NaN</td>\n      <td>NaN</td>\n      <td>NaN</td>\n    </tr>\n    <tr>\n      <th>3</th>\n      <td>The_Cpt_FROGGY</td>\n      <td>7.8</td>\n      <td>2217.0</td>\n      <td>631920</td>\n      <td>0</td>\n      <td>2017-12-11</td>\n      <td>Somewhere on Zibylon:\\n~~~~~~~~~~~~~~~~~~\\nZib...</td>\n      <td>False</td>\n      <td>1</td>\n      <td>76561198003030375</td>\n      <td>Product received for free</td>\n      <td>NaN</td>\n    </tr>\n    <tr>\n      <th>4</th>\n      <td>the_maker988</td>\n      <td>8.2</td>\n      <td>18.0</td>\n      <td>35140</td>\n      <td>7</td>\n      <td>2018-01-02</td>\n      <td>This game was way to linear for me, and compar...</td>\n      <td>False</td>\n      <td>1</td>\n      <td>76561198353396844</td>\n      <td>NaN</td>\n      <td>NaN</td>\n    </tr>\n  </tbody>\n</table>\n</div>"
          },
          "metadata": {},
          "execution_count": 77
        }
      ]
    },
    {
      "cell_type": "code",
      "metadata": {
        "id": "8F-EVRZ4WT0L"
      },
      "source": [
        "data_reviews.isna().sum()"
      ],
      "execution_count": 78,
      "outputs": [
        {
          "output_type": "execute_result",
          "data": {
            "text/plain": [
              "username             0\n",
              "hours             2637\n",
              "products          1566\n",
              "product_id           0\n",
              "page_order           0\n",
              "date                 0\n",
              "text                 0\n",
              "early_access         0\n",
              "page                 0\n",
              "user_id         461967\n",
              "compensation    764719\n",
              "found_funny     659143\n",
              "dtype: int64"
            ]
          },
          "metadata": {},
          "execution_count": 78
        }
      ]
    },
    {
      "cell_type": "code",
      "execution_count": 79,
      "metadata": {},
      "outputs": [
        {
          "output_type": "execute_result",
          "data": {
            "text/plain": [
              "               hours       products     page_order           page  \\\n",
              "count  776670.000000  777741.000000  779307.000000  779307.000000   \n",
              "mean      111.843832     236.993936       4.417743     893.581355   \n",
              "std       390.145376     486.034479       2.897848    1928.272966   \n",
              "min         0.000000       1.000000       0.000000       1.000000   \n",
              "25%         4.000000      45.000000       2.000000      53.000000   \n",
              "50%        15.300000     110.000000       4.000000     238.000000   \n",
              "75%        59.600000     246.000000       7.000000     829.000000   \n",
              "max     28164.000000   13540.000000       9.000000   18371.000000   \n",
              "\n",
              "         found_funny  \n",
              "count  120164.000000  \n",
              "mean        7.713125  \n",
              "std        72.465816  \n",
              "min         1.000000  \n",
              "25%         1.000000  \n",
              "50%         1.000000  \n",
              "75%         3.000000  \n",
              "max      6524.000000  "
            ],
            "text/html": "<div>\n<style scoped>\n    .dataframe tbody tr th:only-of-type {\n        vertical-align: middle;\n    }\n\n    .dataframe tbody tr th {\n        vertical-align: top;\n    }\n\n    .dataframe thead th {\n        text-align: right;\n    }\n</style>\n<table border=\"1\" class=\"dataframe\">\n  <thead>\n    <tr style=\"text-align: right;\">\n      <th></th>\n      <th>hours</th>\n      <th>products</th>\n      <th>page_order</th>\n      <th>page</th>\n      <th>found_funny</th>\n    </tr>\n  </thead>\n  <tbody>\n    <tr>\n      <th>count</th>\n      <td>776670.000000</td>\n      <td>777741.000000</td>\n      <td>779307.000000</td>\n      <td>779307.000000</td>\n      <td>120164.000000</td>\n    </tr>\n    <tr>\n      <th>mean</th>\n      <td>111.843832</td>\n      <td>236.993936</td>\n      <td>4.417743</td>\n      <td>893.581355</td>\n      <td>7.713125</td>\n    </tr>\n    <tr>\n      <th>std</th>\n      <td>390.145376</td>\n      <td>486.034479</td>\n      <td>2.897848</td>\n      <td>1928.272966</td>\n      <td>72.465816</td>\n    </tr>\n    <tr>\n      <th>min</th>\n      <td>0.000000</td>\n      <td>1.000000</td>\n      <td>0.000000</td>\n      <td>1.000000</td>\n      <td>1.000000</td>\n    </tr>\n    <tr>\n      <th>25%</th>\n      <td>4.000000</td>\n      <td>45.000000</td>\n      <td>2.000000</td>\n      <td>53.000000</td>\n      <td>1.000000</td>\n    </tr>\n    <tr>\n      <th>50%</th>\n      <td>15.300000</td>\n      <td>110.000000</td>\n      <td>4.000000</td>\n      <td>238.000000</td>\n      <td>1.000000</td>\n    </tr>\n    <tr>\n      <th>75%</th>\n      <td>59.600000</td>\n      <td>246.000000</td>\n      <td>7.000000</td>\n      <td>829.000000</td>\n      <td>3.000000</td>\n    </tr>\n    <tr>\n      <th>max</th>\n      <td>28164.000000</td>\n      <td>13540.000000</td>\n      <td>9.000000</td>\n      <td>18371.000000</td>\n      <td>6524.000000</td>\n    </tr>\n  </tbody>\n</table>\n</div>"
          },
          "metadata": {},
          "execution_count": 79
        }
      ],
      "source": [
        "data_reviews.describe()"
      ]
    },
    {
      "cell_type": "code",
      "execution_count": 80,
      "metadata": {},
      "outputs": [],
      "source": [
        "data_reviews.columns = [ 'username','hours','products','id','page_order','date','text','early_access','page','user_id','compensation','found_funny']"
      ]
    },
    {
      "cell_type": "code",
      "execution_count": 81,
      "metadata": {},
      "outputs": [
        {
          "output_type": "execute_result",
          "data": {
            "text/plain": [
              "                username    hours  products      id  page_order        date  \\\n",
              "0            Chaos Syren      0.1      41.0  725280           0  2017-12-17   \n",
              "1                Ariman1     13.2    1386.0  328100           2  2017-08-02   \n",
              "2            freakfantom      0.1    1706.0  725280           5  2017-11-12   \n",
              "3         The_Cpt_FROGGY      7.8    2217.0  631920           0  2017-12-11   \n",
              "4           the_maker988      8.2      18.0   35140           7  2018-01-02   \n",
              "...                  ...      ...       ...     ...         ...         ...   \n",
              "779302            Vidaar    783.5     353.0  252490           1  2013-12-11   \n",
              "779303  Nikolai Belinski     55.1     204.0  252490           1  2013-12-11   \n",
              "779304      RancorZealot    203.5     173.0  252490           1  2013-12-11   \n",
              "779305             Jerry    139.8      79.0  252490           1  2013-12-11   \n",
              "779306              Helk  15375.0      98.0  252490           1  2013-12-11   \n",
              "\n",
              "                                                     text  early_access  \\\n",
              "0       This would not be acceptable as an entertainme...         False   \n",
              "1       Addictive RPG ! Works fine on linux though it ...         False   \n",
              "2        Прикольная стрелялка. Взял дешево на распродаже.         False   \n",
              "3       Somewhere on Zibylon:\\n~~~~~~~~~~~~~~~~~~\\nZib...         False   \n",
              "4       This game was way to linear for me, and compar...         False   \n",
              "...                                                   ...           ...   \n",
              "779302  Summary: Rust is a survival game created by Fa...          True   \n",
              "779303                                   Coolest Game Eva          True   \n",
              "779304  Should you buy RUST? Uh... YES. The BEST Survi...          True   \n",
              "779305                                        Great game!          True   \n",
              "779306                                  I love this game!          True   \n",
              "\n",
              "         page            user_id               compensation  found_funny  \n",
              "0           1                NaN                        NaN          NaN  \n",
              "1           1                NaN                        NaN          NaN  \n",
              "2           1                NaN                        NaN          NaN  \n",
              "3           1  76561198003030375  Product received for free          NaN  \n",
              "4           1  76561198353396844                        NaN          NaN  \n",
              "...       ...                ...                        ...          ...  \n",
              "779302  10217                NaN                        NaN          NaN  \n",
              "779303  10218                NaN                        NaN          NaN  \n",
              "779304  10219  76561197963920623                        NaN          NaN  \n",
              "779305  10220  76561198042664856                        NaN          NaN  \n",
              "779306  10221                NaN                        NaN         36.0  \n",
              "\n",
              "[779307 rows x 12 columns]"
            ],
            "text/html": "<div>\n<style scoped>\n    .dataframe tbody tr th:only-of-type {\n        vertical-align: middle;\n    }\n\n    .dataframe tbody tr th {\n        vertical-align: top;\n    }\n\n    .dataframe thead th {\n        text-align: right;\n    }\n</style>\n<table border=\"1\" class=\"dataframe\">\n  <thead>\n    <tr style=\"text-align: right;\">\n      <th></th>\n      <th>username</th>\n      <th>hours</th>\n      <th>products</th>\n      <th>id</th>\n      <th>page_order</th>\n      <th>date</th>\n      <th>text</th>\n      <th>early_access</th>\n      <th>page</th>\n      <th>user_id</th>\n      <th>compensation</th>\n      <th>found_funny</th>\n    </tr>\n  </thead>\n  <tbody>\n    <tr>\n      <th>0</th>\n      <td>Chaos Syren</td>\n      <td>0.1</td>\n      <td>41.0</td>\n      <td>725280</td>\n      <td>0</td>\n      <td>2017-12-17</td>\n      <td>This would not be acceptable as an entertainme...</td>\n      <td>False</td>\n      <td>1</td>\n      <td>NaN</td>\n      <td>NaN</td>\n      <td>NaN</td>\n    </tr>\n    <tr>\n      <th>1</th>\n      <td>Ariman1</td>\n      <td>13.2</td>\n      <td>1386.0</td>\n      <td>328100</td>\n      <td>2</td>\n      <td>2017-08-02</td>\n      <td>Addictive RPG ! Works fine on linux though it ...</td>\n      <td>False</td>\n      <td>1</td>\n      <td>NaN</td>\n      <td>NaN</td>\n      <td>NaN</td>\n    </tr>\n    <tr>\n      <th>2</th>\n      <td>freakfantom</td>\n      <td>0.1</td>\n      <td>1706.0</td>\n      <td>725280</td>\n      <td>5</td>\n      <td>2017-11-12</td>\n      <td>Прикольная стрелялка. Взял дешево на распродаже.</td>\n      <td>False</td>\n      <td>1</td>\n      <td>NaN</td>\n      <td>NaN</td>\n      <td>NaN</td>\n    </tr>\n    <tr>\n      <th>3</th>\n      <td>The_Cpt_FROGGY</td>\n      <td>7.8</td>\n      <td>2217.0</td>\n      <td>631920</td>\n      <td>0</td>\n      <td>2017-12-11</td>\n      <td>Somewhere on Zibylon:\\n~~~~~~~~~~~~~~~~~~\\nZib...</td>\n      <td>False</td>\n      <td>1</td>\n      <td>76561198003030375</td>\n      <td>Product received for free</td>\n      <td>NaN</td>\n    </tr>\n    <tr>\n      <th>4</th>\n      <td>the_maker988</td>\n      <td>8.2</td>\n      <td>18.0</td>\n      <td>35140</td>\n      <td>7</td>\n      <td>2018-01-02</td>\n      <td>This game was way to linear for me, and compar...</td>\n      <td>False</td>\n      <td>1</td>\n      <td>76561198353396844</td>\n      <td>NaN</td>\n      <td>NaN</td>\n    </tr>\n    <tr>\n      <th>...</th>\n      <td>...</td>\n      <td>...</td>\n      <td>...</td>\n      <td>...</td>\n      <td>...</td>\n      <td>...</td>\n      <td>...</td>\n      <td>...</td>\n      <td>...</td>\n      <td>...</td>\n      <td>...</td>\n      <td>...</td>\n    </tr>\n    <tr>\n      <th>779302</th>\n      <td>Vidaar</td>\n      <td>783.5</td>\n      <td>353.0</td>\n      <td>252490</td>\n      <td>1</td>\n      <td>2013-12-11</td>\n      <td>Summary: Rust is a survival game created by Fa...</td>\n      <td>True</td>\n      <td>10217</td>\n      <td>NaN</td>\n      <td>NaN</td>\n      <td>NaN</td>\n    </tr>\n    <tr>\n      <th>779303</th>\n      <td>Nikolai Belinski</td>\n      <td>55.1</td>\n      <td>204.0</td>\n      <td>252490</td>\n      <td>1</td>\n      <td>2013-12-11</td>\n      <td>Coolest Game Eva</td>\n      <td>True</td>\n      <td>10218</td>\n      <td>NaN</td>\n      <td>NaN</td>\n      <td>NaN</td>\n    </tr>\n    <tr>\n      <th>779304</th>\n      <td>RancorZealot</td>\n      <td>203.5</td>\n      <td>173.0</td>\n      <td>252490</td>\n      <td>1</td>\n      <td>2013-12-11</td>\n      <td>Should you buy RUST? Uh... YES. The BEST Survi...</td>\n      <td>True</td>\n      <td>10219</td>\n      <td>76561197963920623</td>\n      <td>NaN</td>\n      <td>NaN</td>\n    </tr>\n    <tr>\n      <th>779305</th>\n      <td>Jerry</td>\n      <td>139.8</td>\n      <td>79.0</td>\n      <td>252490</td>\n      <td>1</td>\n      <td>2013-12-11</td>\n      <td>Great game!</td>\n      <td>True</td>\n      <td>10220</td>\n      <td>76561198042664856</td>\n      <td>NaN</td>\n      <td>NaN</td>\n    </tr>\n    <tr>\n      <th>779306</th>\n      <td>Helk</td>\n      <td>15375.0</td>\n      <td>98.0</td>\n      <td>252490</td>\n      <td>1</td>\n      <td>2013-12-11</td>\n      <td>I love this game!</td>\n      <td>True</td>\n      <td>10221</td>\n      <td>NaN</td>\n      <td>NaN</td>\n      <td>36.0</td>\n    </tr>\n  </tbody>\n</table>\n<p>779307 rows × 12 columns</p>\n</div>"
          },
          "metadata": {},
          "execution_count": 81
        }
      ],
      "source": [
        "data_reviews"
      ]
    },
    {
      "source": [
        "---"
      ],
      "cell_type": "markdown",
      "metadata": {}
    },
    {
      "cell_type": "markdown",
      "metadata": {
        "id": "04ed3teRWT0T"
      },
      "source": [
        "**Games**"
      ]
    },
    {
      "cell_type": "code",
      "metadata": {
        "id": "8wRb24Y5WT0U"
      },
      "source": [
        "data_games = []\n",
        "for l in parse('steam_games.json.gz'):\n",
        "    data_games.append(l)\n",
        "data_games = pd.DataFrame(data_games)"
      ],
      "execution_count": 82,
      "outputs": []
    },
    {
      "cell_type": "code",
      "metadata": {
        "id": "sVR0Cs6SWT0b"
      },
      "source": [
        "data_games.head()"
      ],
      "execution_count": 83,
      "outputs": [
        {
          "output_type": "execute_result",
          "data": {
            "text/plain": [
              "          publisher                                             genres  \\\n",
              "0         Kotoshiro      [Action, Casual, Indie, Simulation, Strategy]   \n",
              "1  Making Fun, Inc.               [Free to Play, Indie, RPG, Strategy]   \n",
              "2      Poolians.com  [Casual, Free to Play, Indie, Simulation, Sports]   \n",
              "3              彼岸领域                        [Action, Adventure, Casual]   \n",
              "4               NaN                                                NaN   \n",
              "\n",
              "                  app_name                    title  \\\n",
              "0      Lost Summoner Kitty      Lost Summoner Kitty   \n",
              "1                Ironbound                Ironbound   \n",
              "2  Real Pool 3D - Poolians  Real Pool 3D - Poolians   \n",
              "3                  弹炸人2222                  弹炸人2222   \n",
              "4            Log Challenge                      NaN   \n",
              "\n",
              "                                                 url release_date  \\\n",
              "0  http://store.steampowered.com/app/761140/Lost_...   2018-01-04   \n",
              "1  http://store.steampowered.com/app/643980/Ironb...   2018-01-04   \n",
              "2  http://store.steampowered.com/app/670290/Real_...   2017-07-24   \n",
              "3     http://store.steampowered.com/app/767400/2222/   2017-12-07   \n",
              "4  http://store.steampowered.com/app/773570/Log_C...          NaN   \n",
              "\n",
              "                                                tags  discount_price  \\\n",
              "0      [Strategy, Action, Indie, Casual, Simulation]            4.49   \n",
              "1  [Free to Play, Strategy, Indie, RPG, Card Game...             NaN   \n",
              "2  [Free to Play, Simulation, Sports, Casual, Ind...             NaN   \n",
              "3                        [Action, Adventure, Casual]            0.83   \n",
              "4                    [Action, Indie, Casual, Sports]            1.79   \n",
              "\n",
              "                                         reviews_url  \\\n",
              "0  http://steamcommunity.com/app/761140/reviews/?...   \n",
              "1  http://steamcommunity.com/app/643980/reviews/?...   \n",
              "2  http://steamcommunity.com/app/670290/reviews/?...   \n",
              "3  http://steamcommunity.com/app/767400/reviews/?...   \n",
              "4  http://steamcommunity.com/app/773570/reviews/?...   \n",
              "\n",
              "                                               specs         price  \\\n",
              "0                                    [Single-player]          4.99   \n",
              "1  [Single-player, Multi-player, Online Multi-Pla...  Free To Play   \n",
              "2  [Single-player, Multi-player, Online Multi-Pla...  Free to Play   \n",
              "3                                    [Single-player]          0.99   \n",
              "4  [Single-player, Full controller support, HTC V...          2.99   \n",
              "\n",
              "   early_access      id         developer        sentiment metascore  \n",
              "0         False  761140         Kotoshiro              NaN       NaN  \n",
              "1         False  643980  Secret Level SRL  Mostly Positive       NaN  \n",
              "2         False  670290      Poolians.com  Mostly Positive       NaN  \n",
              "3         False  767400              彼岸领域              NaN       NaN  \n",
              "4         False  773570               NaN              NaN       NaN  "
            ],
            "text/html": "<div>\n<style scoped>\n    .dataframe tbody tr th:only-of-type {\n        vertical-align: middle;\n    }\n\n    .dataframe tbody tr th {\n        vertical-align: top;\n    }\n\n    .dataframe thead th {\n        text-align: right;\n    }\n</style>\n<table border=\"1\" class=\"dataframe\">\n  <thead>\n    <tr style=\"text-align: right;\">\n      <th></th>\n      <th>publisher</th>\n      <th>genres</th>\n      <th>app_name</th>\n      <th>title</th>\n      <th>url</th>\n      <th>release_date</th>\n      <th>tags</th>\n      <th>discount_price</th>\n      <th>reviews_url</th>\n      <th>specs</th>\n      <th>price</th>\n      <th>early_access</th>\n      <th>id</th>\n      <th>developer</th>\n      <th>sentiment</th>\n      <th>metascore</th>\n    </tr>\n  </thead>\n  <tbody>\n    <tr>\n      <th>0</th>\n      <td>Kotoshiro</td>\n      <td>[Action, Casual, Indie, Simulation, Strategy]</td>\n      <td>Lost Summoner Kitty</td>\n      <td>Lost Summoner Kitty</td>\n      <td>http://store.steampowered.com/app/761140/Lost_...</td>\n      <td>2018-01-04</td>\n      <td>[Strategy, Action, Indie, Casual, Simulation]</td>\n      <td>4.49</td>\n      <td>http://steamcommunity.com/app/761140/reviews/?...</td>\n      <td>[Single-player]</td>\n      <td>4.99</td>\n      <td>False</td>\n      <td>761140</td>\n      <td>Kotoshiro</td>\n      <td>NaN</td>\n      <td>NaN</td>\n    </tr>\n    <tr>\n      <th>1</th>\n      <td>Making Fun, Inc.</td>\n      <td>[Free to Play, Indie, RPG, Strategy]</td>\n      <td>Ironbound</td>\n      <td>Ironbound</td>\n      <td>http://store.steampowered.com/app/643980/Ironb...</td>\n      <td>2018-01-04</td>\n      <td>[Free to Play, Strategy, Indie, RPG, Card Game...</td>\n      <td>NaN</td>\n      <td>http://steamcommunity.com/app/643980/reviews/?...</td>\n      <td>[Single-player, Multi-player, Online Multi-Pla...</td>\n      <td>Free To Play</td>\n      <td>False</td>\n      <td>643980</td>\n      <td>Secret Level SRL</td>\n      <td>Mostly Positive</td>\n      <td>NaN</td>\n    </tr>\n    <tr>\n      <th>2</th>\n      <td>Poolians.com</td>\n      <td>[Casual, Free to Play, Indie, Simulation, Sports]</td>\n      <td>Real Pool 3D - Poolians</td>\n      <td>Real Pool 3D - Poolians</td>\n      <td>http://store.steampowered.com/app/670290/Real_...</td>\n      <td>2017-07-24</td>\n      <td>[Free to Play, Simulation, Sports, Casual, Ind...</td>\n      <td>NaN</td>\n      <td>http://steamcommunity.com/app/670290/reviews/?...</td>\n      <td>[Single-player, Multi-player, Online Multi-Pla...</td>\n      <td>Free to Play</td>\n      <td>False</td>\n      <td>670290</td>\n      <td>Poolians.com</td>\n      <td>Mostly Positive</td>\n      <td>NaN</td>\n    </tr>\n    <tr>\n      <th>3</th>\n      <td>彼岸领域</td>\n      <td>[Action, Adventure, Casual]</td>\n      <td>弹炸人2222</td>\n      <td>弹炸人2222</td>\n      <td>http://store.steampowered.com/app/767400/2222/</td>\n      <td>2017-12-07</td>\n      <td>[Action, Adventure, Casual]</td>\n      <td>0.83</td>\n      <td>http://steamcommunity.com/app/767400/reviews/?...</td>\n      <td>[Single-player]</td>\n      <td>0.99</td>\n      <td>False</td>\n      <td>767400</td>\n      <td>彼岸领域</td>\n      <td>NaN</td>\n      <td>NaN</td>\n    </tr>\n    <tr>\n      <th>4</th>\n      <td>NaN</td>\n      <td>NaN</td>\n      <td>Log Challenge</td>\n      <td>NaN</td>\n      <td>http://store.steampowered.com/app/773570/Log_C...</td>\n      <td>NaN</td>\n      <td>[Action, Indie, Casual, Sports]</td>\n      <td>1.79</td>\n      <td>http://steamcommunity.com/app/773570/reviews/?...</td>\n      <td>[Single-player, Full controller support, HTC V...</td>\n      <td>2.99</td>\n      <td>False</td>\n      <td>773570</td>\n      <td>NaN</td>\n      <td>NaN</td>\n      <td>NaN</td>\n    </tr>\n  </tbody>\n</table>\n</div>"
          },
          "metadata": {},
          "execution_count": 83
        }
      ]
    },
    {
      "cell_type": "code",
      "execution_count": 84,
      "metadata": {},
      "outputs": [
        {
          "output_type": "execute_result",
          "data": {
            "text/plain": [
              "             publisher                                 genres  \\\n",
              "32130  Ghost_RUS Games  [Casual, Indie, Simulation, Strategy]   \n",
              "32131           Sacada              [Casual, Indie, Strategy]   \n",
              "32132     Laush Studio            [Indie, Racing, Simulation]   \n",
              "32133         SIXNAILS                        [Casual, Indie]   \n",
              "32134              NaN                                    NaN   \n",
              "\n",
              "                       app_name                     title  \\\n",
              "32130            Colony On Mars            Colony On Mars   \n",
              "32131  LOGistICAL: South Africa  LOGistICAL: South Africa   \n",
              "32132             Russian Roads             Russian Roads   \n",
              "32133       EXIT 2 - Directions       EXIT 2 - Directions   \n",
              "32134               Maze Run VR                       NaN   \n",
              "\n",
              "                                                     url release_date  \\\n",
              "32130  http://store.steampowered.com/app/773640/Colon...   2018-01-04   \n",
              "32131  http://store.steampowered.com/app/733530/LOGis...   2018-01-04   \n",
              "32132  http://store.steampowered.com/app/610660/Russi...   2018-01-04   \n",
              "32133  http://store.steampowered.com/app/658870/EXIT_...   2017-09-02   \n",
              "32134  http://store.steampowered.com/app/681550/Maze_...          NaN   \n",
              "\n",
              "                                                    tags  discount_price  \\\n",
              "32130              [Strategy, Indie, Casual, Simulation]            1.49   \n",
              "32131                          [Strategy, Indie, Casual]            4.24   \n",
              "32132                        [Indie, Simulation, Racing]            1.39   \n",
              "32133  [Indie, Casual, Puzzle, Singleplayer, Atmosphe...             NaN   \n",
              "32134  [Early Access, Adventure, Indie, Action, Simul...             NaN   \n",
              "\n",
              "                                             reviews_url  \\\n",
              "32130  http://steamcommunity.com/app/773640/reviews/?...   \n",
              "32131  http://steamcommunity.com/app/733530/reviews/?...   \n",
              "32132  http://steamcommunity.com/app/610660/reviews/?...   \n",
              "32133  http://steamcommunity.com/app/658870/reviews/?...   \n",
              "32134  http://steamcommunity.com/app/681550/reviews/?...   \n",
              "\n",
              "                                                   specs price  early_access  \\\n",
              "32130                [Single-player, Steam Achievements]  1.99         False   \n",
              "32131  [Single-player, Steam Achievements, Steam Clou...  4.99         False   \n",
              "32132  [Single-player, Steam Achievements, Steam Trad...  1.99         False   \n",
              "32133   [Single-player, Steam Achievements, Steam Cloud]  4.99         False   \n",
              "32134  [Single-player, Stats, Steam Leaderboards, HTC...  4.99          True   \n",
              "\n",
              "           id                 developer       sentiment metascore  \n",
              "32130  773640        Nikita \"Ghost_RUS\"             NaN       NaN  \n",
              "32131  733530                    Sacada             NaN       NaN  \n",
              "32132  610660  Laush Dmitriy Sergeevich             NaN       NaN  \n",
              "32133  658870             xropi,stev3ns  1 user reviews       NaN  \n",
              "32134  681550                       NaN        Positive       NaN  "
            ],
            "text/html": "<div>\n<style scoped>\n    .dataframe tbody tr th:only-of-type {\n        vertical-align: middle;\n    }\n\n    .dataframe tbody tr th {\n        vertical-align: top;\n    }\n\n    .dataframe thead th {\n        text-align: right;\n    }\n</style>\n<table border=\"1\" class=\"dataframe\">\n  <thead>\n    <tr style=\"text-align: right;\">\n      <th></th>\n      <th>publisher</th>\n      <th>genres</th>\n      <th>app_name</th>\n      <th>title</th>\n      <th>url</th>\n      <th>release_date</th>\n      <th>tags</th>\n      <th>discount_price</th>\n      <th>reviews_url</th>\n      <th>specs</th>\n      <th>price</th>\n      <th>early_access</th>\n      <th>id</th>\n      <th>developer</th>\n      <th>sentiment</th>\n      <th>metascore</th>\n    </tr>\n  </thead>\n  <tbody>\n    <tr>\n      <th>32130</th>\n      <td>Ghost_RUS Games</td>\n      <td>[Casual, Indie, Simulation, Strategy]</td>\n      <td>Colony On Mars</td>\n      <td>Colony On Mars</td>\n      <td>http://store.steampowered.com/app/773640/Colon...</td>\n      <td>2018-01-04</td>\n      <td>[Strategy, Indie, Casual, Simulation]</td>\n      <td>1.49</td>\n      <td>http://steamcommunity.com/app/773640/reviews/?...</td>\n      <td>[Single-player, Steam Achievements]</td>\n      <td>1.99</td>\n      <td>False</td>\n      <td>773640</td>\n      <td>Nikita \"Ghost_RUS\"</td>\n      <td>NaN</td>\n      <td>NaN</td>\n    </tr>\n    <tr>\n      <th>32131</th>\n      <td>Sacada</td>\n      <td>[Casual, Indie, Strategy]</td>\n      <td>LOGistICAL: South Africa</td>\n      <td>LOGistICAL: South Africa</td>\n      <td>http://store.steampowered.com/app/733530/LOGis...</td>\n      <td>2018-01-04</td>\n      <td>[Strategy, Indie, Casual]</td>\n      <td>4.24</td>\n      <td>http://steamcommunity.com/app/733530/reviews/?...</td>\n      <td>[Single-player, Steam Achievements, Steam Clou...</td>\n      <td>4.99</td>\n      <td>False</td>\n      <td>733530</td>\n      <td>Sacada</td>\n      <td>NaN</td>\n      <td>NaN</td>\n    </tr>\n    <tr>\n      <th>32132</th>\n      <td>Laush Studio</td>\n      <td>[Indie, Racing, Simulation]</td>\n      <td>Russian Roads</td>\n      <td>Russian Roads</td>\n      <td>http://store.steampowered.com/app/610660/Russi...</td>\n      <td>2018-01-04</td>\n      <td>[Indie, Simulation, Racing]</td>\n      <td>1.39</td>\n      <td>http://steamcommunity.com/app/610660/reviews/?...</td>\n      <td>[Single-player, Steam Achievements, Steam Trad...</td>\n      <td>1.99</td>\n      <td>False</td>\n      <td>610660</td>\n      <td>Laush Dmitriy Sergeevich</td>\n      <td>NaN</td>\n      <td>NaN</td>\n    </tr>\n    <tr>\n      <th>32133</th>\n      <td>SIXNAILS</td>\n      <td>[Casual, Indie]</td>\n      <td>EXIT 2 - Directions</td>\n      <td>EXIT 2 - Directions</td>\n      <td>http://store.steampowered.com/app/658870/EXIT_...</td>\n      <td>2017-09-02</td>\n      <td>[Indie, Casual, Puzzle, Singleplayer, Atmosphe...</td>\n      <td>NaN</td>\n      <td>http://steamcommunity.com/app/658870/reviews/?...</td>\n      <td>[Single-player, Steam Achievements, Steam Cloud]</td>\n      <td>4.99</td>\n      <td>False</td>\n      <td>658870</td>\n      <td>xropi,stev3ns</td>\n      <td>1 user reviews</td>\n      <td>NaN</td>\n    </tr>\n    <tr>\n      <th>32134</th>\n      <td>NaN</td>\n      <td>NaN</td>\n      <td>Maze Run VR</td>\n      <td>NaN</td>\n      <td>http://store.steampowered.com/app/681550/Maze_...</td>\n      <td>NaN</td>\n      <td>[Early Access, Adventure, Indie, Action, Simul...</td>\n      <td>NaN</td>\n      <td>http://steamcommunity.com/app/681550/reviews/?...</td>\n      <td>[Single-player, Stats, Steam Leaderboards, HTC...</td>\n      <td>4.99</td>\n      <td>True</td>\n      <td>681550</td>\n      <td>NaN</td>\n      <td>Positive</td>\n      <td>NaN</td>\n    </tr>\n  </tbody>\n</table>\n</div>"
          },
          "metadata": {},
          "execution_count": 84
        }
      ],
      "source": [
        "data_games.tail()"
      ]
    },
    {
      "cell_type": "code",
      "execution_count": 85,
      "metadata": {},
      "outputs": [
        {
          "output_type": "execute_result",
          "data": {
            "text/plain": [
              "publisher          8052\n",
              "genres             3283\n",
              "app_name              2\n",
              "title              2050\n",
              "url                   0\n",
              "release_date       2067\n",
              "tags                163\n",
              "discount_price    31910\n",
              "reviews_url           2\n",
              "specs               670\n",
              "price              1377\n",
              "early_access          0\n",
              "id                    2\n",
              "developer          3299\n",
              "sentiment          7182\n",
              "metascore         29458\n",
              "dtype: int64"
            ]
          },
          "metadata": {},
          "execution_count": 85
        }
      ],
      "source": [
        "data_games.isna().sum()"
      ]
    },
    {
      "cell_type": "code",
      "execution_count": 86,
      "metadata": {},
      "outputs": [
        {
          "output_type": "execute_result",
          "data": {
            "text/plain": [
              "       discount_price\n",
              "count      225.000000\n",
              "mean        11.930533\n",
              "std         17.492643\n",
              "min          0.490000\n",
              "25%          1.390000\n",
              "50%          4.190000\n",
              "75%         22.660000\n",
              "max        139.990000"
            ],
            "text/html": "<div>\n<style scoped>\n    .dataframe tbody tr th:only-of-type {\n        vertical-align: middle;\n    }\n\n    .dataframe tbody tr th {\n        vertical-align: top;\n    }\n\n    .dataframe thead th {\n        text-align: right;\n    }\n</style>\n<table border=\"1\" class=\"dataframe\">\n  <thead>\n    <tr style=\"text-align: right;\">\n      <th></th>\n      <th>discount_price</th>\n    </tr>\n  </thead>\n  <tbody>\n    <tr>\n      <th>count</th>\n      <td>225.000000</td>\n    </tr>\n    <tr>\n      <th>mean</th>\n      <td>11.930533</td>\n    </tr>\n    <tr>\n      <th>std</th>\n      <td>17.492643</td>\n    </tr>\n    <tr>\n      <th>min</th>\n      <td>0.490000</td>\n    </tr>\n    <tr>\n      <th>25%</th>\n      <td>1.390000</td>\n    </tr>\n    <tr>\n      <th>50%</th>\n      <td>4.190000</td>\n    </tr>\n    <tr>\n      <th>75%</th>\n      <td>22.660000</td>\n    </tr>\n    <tr>\n      <th>max</th>\n      <td>139.990000</td>\n    </tr>\n  </tbody>\n</table>\n</div>"
          },
          "metadata": {},
          "execution_count": 86
        }
      ],
      "source": [
        "data_games.describe()"
      ]
    },
    {
      "source": [
        "---"
      ],
      "cell_type": "markdown",
      "metadata": {}
    },
    {
      "cell_type": "code",
      "execution_count": 87,
      "metadata": {},
      "outputs": [
        {
          "output_type": "execute_result",
          "data": {
            "text/plain": [
              "           username  hours  products      id  page_order        date  \\\n",
              "0       Chaos Syren    0.1      41.0  725280           0  2017-12-17   \n",
              "1       freakfantom    0.1    1706.0  725280           5  2017-11-12   \n",
              "2           Ariman1   13.2    1386.0  328100           2  2017-08-02   \n",
              "3             dll3z    0.4     314.0  328100           5  2017-03-07   \n",
              "4          Nyazicat    2.2    1224.0  328100           1  2017-01-09   \n",
              "...             ...    ...       ...     ...         ...         ...   \n",
              "779946        rt974    9.4      36.0  518790           3  2017-02-16   \n",
              "779947  Fallenglory   35.8     606.0  518790           3  2017-02-16   \n",
              "779948     GooseMan   32.4     166.0  518790           7  2017-02-16   \n",
              "779949    lazyboy82   96.9      22.0  518790           3  2017-02-16   \n",
              "779950   Parad0x +x    1.3      55.0  518790           3  2017-02-16   \n",
              "\n",
              "                                                     text  early_access_x  \\\n",
              "0       This would not be acceptable as an entertainme...           False   \n",
              "1        Прикольная стрелялка. Взял дешево на распродаже.           False   \n",
              "2       Addictive RPG ! Works fine on linux though it ...           False   \n",
              "3                                    do not buy this game           False   \n",
              "4       For some reason I entirely derped out and boug...           False   \n",
              "...                                                   ...             ...   \n",
              "779946  Hi,\\nI discovered this game yesterday on my pe...           False   \n",
              "779947  The Hunter was and is still the most realistic...           False   \n",
              "779948                                         Very good!           False   \n",
              "779949  Update after 60+ hours:\\nI decided to quit the...           False   \n",
              "779950  I would recommend this to any hunter loving fa...           False   \n",
              "\n",
              "        page            user_id  ... release_date  \\\n",
              "0          1                NaN  ...   2017-11-10   \n",
              "1          1                NaN  ...   2017-11-10   \n",
              "2          1                NaN  ...   2014-11-07   \n",
              "3          2                NaN  ...   2014-11-07   \n",
              "4          3                NaN  ...   2014-11-07   \n",
              "...      ...                ...  ...          ...   \n",
              "779946   381  76561198032901419  ...   2017-02-16   \n",
              "779947   382  76561197992526609  ...   2017-02-16   \n",
              "779948   383  76561198037224895  ...   2017-02-16   \n",
              "779949   384                NaN  ...   2017-02-16   \n",
              "779950   385  76561198191446302  ...   2017-02-16   \n",
              "\n",
              "                                                     tags discount_price  \\\n",
              "0                  [Action, Adventure, Indie, Simulation]            NaN   \n",
              "1                  [Action, Adventure, Indie, Simulation]            NaN   \n",
              "2                [Adventure, RPG, Indie, Puzzle, Match 3]            NaN   \n",
              "3                [Adventure, RPG, Indie, Puzzle, Match 3]            NaN   \n",
              "4                [Adventure, RPG, Indie, Puzzle, Match 3]            NaN   \n",
              "...                                                   ...            ...   \n",
              "779946  [Hunting, Open World, Multiplayer, Simulation,...            NaN   \n",
              "779947  [Hunting, Open World, Multiplayer, Simulation,...            NaN   \n",
              "779948  [Hunting, Open World, Multiplayer, Simulation,...            NaN   \n",
              "779949  [Hunting, Open World, Multiplayer, Simulation,...            NaN   \n",
              "779950  [Hunting, Open World, Multiplayer, Simulation,...            NaN   \n",
              "\n",
              "                                              reviews_url  \\\n",
              "0       http://steamcommunity.com/app/725280/reviews/?...   \n",
              "1       http://steamcommunity.com/app/725280/reviews/?...   \n",
              "2       http://steamcommunity.com/app/328100/reviews/?...   \n",
              "3       http://steamcommunity.com/app/328100/reviews/?...   \n",
              "4       http://steamcommunity.com/app/328100/reviews/?...   \n",
              "...                                                   ...   \n",
              "779946  http://steamcommunity.com/app/518790/reviews/?...   \n",
              "779947  http://steamcommunity.com/app/518790/reviews/?...   \n",
              "779948  http://steamcommunity.com/app/518790/reviews/?...   \n",
              "779949  http://steamcommunity.com/app/518790/reviews/?...   \n",
              "779950  http://steamcommunity.com/app/518790/reviews/?...   \n",
              "\n",
              "                                                    specs  price  \\\n",
              "0                    [Single-player, Steam Trading Cards]   2.99   \n",
              "1                    [Single-player, Steam Trading Cards]   2.99   \n",
              "2                                         [Single-player]  14.99   \n",
              "3                                         [Single-player]  14.99   \n",
              "4                                         [Single-player]  14.99   \n",
              "...                                                   ...    ...   \n",
              "779946  [Single-player, Multi-player, Steam Achievemen...  29.99   \n",
              "779947  [Single-player, Multi-player, Steam Achievemen...  29.99   \n",
              "779948  [Single-player, Multi-player, Steam Achievemen...  29.99   \n",
              "779949  [Single-player, Multi-player, Steam Achievemen...  29.99   \n",
              "779950  [Single-player, Multi-player, Steam Achievemen...  29.99   \n",
              "\n",
              "       early_access_y             developer        sentiment  metascore  \n",
              "0               False  Vyacheslav Shilikhin         Positive        NaN  \n",
              "1               False  Vyacheslav Shilikhin         Positive        NaN  \n",
              "2               False           Ino-Co Plus            Mixed        NaN  \n",
              "3               False           Ino-Co Plus            Mixed        NaN  \n",
              "4               False           Ino-Co Plus            Mixed        NaN  \n",
              "...               ...                   ...              ...        ...  \n",
              "779946          False      Expansive Worlds  Mostly Positive        NaN  \n",
              "779947          False      Expansive Worlds  Mostly Positive        NaN  \n",
              "779948          False      Expansive Worlds  Mostly Positive        NaN  \n",
              "779949          False      Expansive Worlds  Mostly Positive        NaN  \n",
              "779950          False      Expansive Worlds  Mostly Positive        NaN  \n",
              "\n",
              "[779951 rows x 27 columns]"
            ],
            "text/html": "<div>\n<style scoped>\n    .dataframe tbody tr th:only-of-type {\n        vertical-align: middle;\n    }\n\n    .dataframe tbody tr th {\n        vertical-align: top;\n    }\n\n    .dataframe thead th {\n        text-align: right;\n    }\n</style>\n<table border=\"1\" class=\"dataframe\">\n  <thead>\n    <tr style=\"text-align: right;\">\n      <th></th>\n      <th>username</th>\n      <th>hours</th>\n      <th>products</th>\n      <th>id</th>\n      <th>page_order</th>\n      <th>date</th>\n      <th>text</th>\n      <th>early_access_x</th>\n      <th>page</th>\n      <th>user_id</th>\n      <th>...</th>\n      <th>release_date</th>\n      <th>tags</th>\n      <th>discount_price</th>\n      <th>reviews_url</th>\n      <th>specs</th>\n      <th>price</th>\n      <th>early_access_y</th>\n      <th>developer</th>\n      <th>sentiment</th>\n      <th>metascore</th>\n    </tr>\n  </thead>\n  <tbody>\n    <tr>\n      <th>0</th>\n      <td>Chaos Syren</td>\n      <td>0.1</td>\n      <td>41.0</td>\n      <td>725280</td>\n      <td>0</td>\n      <td>2017-12-17</td>\n      <td>This would not be acceptable as an entertainme...</td>\n      <td>False</td>\n      <td>1</td>\n      <td>NaN</td>\n      <td>...</td>\n      <td>2017-11-10</td>\n      <td>[Action, Adventure, Indie, Simulation]</td>\n      <td>NaN</td>\n      <td>http://steamcommunity.com/app/725280/reviews/?...</td>\n      <td>[Single-player, Steam Trading Cards]</td>\n      <td>2.99</td>\n      <td>False</td>\n      <td>Vyacheslav Shilikhin</td>\n      <td>Positive</td>\n      <td>NaN</td>\n    </tr>\n    <tr>\n      <th>1</th>\n      <td>freakfantom</td>\n      <td>0.1</td>\n      <td>1706.0</td>\n      <td>725280</td>\n      <td>5</td>\n      <td>2017-11-12</td>\n      <td>Прикольная стрелялка. Взял дешево на распродаже.</td>\n      <td>False</td>\n      <td>1</td>\n      <td>NaN</td>\n      <td>...</td>\n      <td>2017-11-10</td>\n      <td>[Action, Adventure, Indie, Simulation]</td>\n      <td>NaN</td>\n      <td>http://steamcommunity.com/app/725280/reviews/?...</td>\n      <td>[Single-player, Steam Trading Cards]</td>\n      <td>2.99</td>\n      <td>False</td>\n      <td>Vyacheslav Shilikhin</td>\n      <td>Positive</td>\n      <td>NaN</td>\n    </tr>\n    <tr>\n      <th>2</th>\n      <td>Ariman1</td>\n      <td>13.2</td>\n      <td>1386.0</td>\n      <td>328100</td>\n      <td>2</td>\n      <td>2017-08-02</td>\n      <td>Addictive RPG ! Works fine on linux though it ...</td>\n      <td>False</td>\n      <td>1</td>\n      <td>NaN</td>\n      <td>...</td>\n      <td>2014-11-07</td>\n      <td>[Adventure, RPG, Indie, Puzzle, Match 3]</td>\n      <td>NaN</td>\n      <td>http://steamcommunity.com/app/328100/reviews/?...</td>\n      <td>[Single-player]</td>\n      <td>14.99</td>\n      <td>False</td>\n      <td>Ino-Co Plus</td>\n      <td>Mixed</td>\n      <td>NaN</td>\n    </tr>\n    <tr>\n      <th>3</th>\n      <td>dll3z</td>\n      <td>0.4</td>\n      <td>314.0</td>\n      <td>328100</td>\n      <td>5</td>\n      <td>2017-03-07</td>\n      <td>do not buy this game</td>\n      <td>False</td>\n      <td>2</td>\n      <td>NaN</td>\n      <td>...</td>\n      <td>2014-11-07</td>\n      <td>[Adventure, RPG, Indie, Puzzle, Match 3]</td>\n      <td>NaN</td>\n      <td>http://steamcommunity.com/app/328100/reviews/?...</td>\n      <td>[Single-player]</td>\n      <td>14.99</td>\n      <td>False</td>\n      <td>Ino-Co Plus</td>\n      <td>Mixed</td>\n      <td>NaN</td>\n    </tr>\n    <tr>\n      <th>4</th>\n      <td>Nyazicat</td>\n      <td>2.2</td>\n      <td>1224.0</td>\n      <td>328100</td>\n      <td>1</td>\n      <td>2017-01-09</td>\n      <td>For some reason I entirely derped out and boug...</td>\n      <td>False</td>\n      <td>3</td>\n      <td>NaN</td>\n      <td>...</td>\n      <td>2014-11-07</td>\n      <td>[Adventure, RPG, Indie, Puzzle, Match 3]</td>\n      <td>NaN</td>\n      <td>http://steamcommunity.com/app/328100/reviews/?...</td>\n      <td>[Single-player]</td>\n      <td>14.99</td>\n      <td>False</td>\n      <td>Ino-Co Plus</td>\n      <td>Mixed</td>\n      <td>NaN</td>\n    </tr>\n    <tr>\n      <th>...</th>\n      <td>...</td>\n      <td>...</td>\n      <td>...</td>\n      <td>...</td>\n      <td>...</td>\n      <td>...</td>\n      <td>...</td>\n      <td>...</td>\n      <td>...</td>\n      <td>...</td>\n      <td>...</td>\n      <td>...</td>\n      <td>...</td>\n      <td>...</td>\n      <td>...</td>\n      <td>...</td>\n      <td>...</td>\n      <td>...</td>\n      <td>...</td>\n      <td>...</td>\n      <td>...</td>\n    </tr>\n    <tr>\n      <th>779946</th>\n      <td>rt974</td>\n      <td>9.4</td>\n      <td>36.0</td>\n      <td>518790</td>\n      <td>3</td>\n      <td>2017-02-16</td>\n      <td>Hi,\\nI discovered this game yesterday on my pe...</td>\n      <td>False</td>\n      <td>381</td>\n      <td>76561198032901419</td>\n      <td>...</td>\n      <td>2017-02-16</td>\n      <td>[Hunting, Open World, Multiplayer, Simulation,...</td>\n      <td>NaN</td>\n      <td>http://steamcommunity.com/app/518790/reviews/?...</td>\n      <td>[Single-player, Multi-player, Steam Achievemen...</td>\n      <td>29.99</td>\n      <td>False</td>\n      <td>Expansive Worlds</td>\n      <td>Mostly Positive</td>\n      <td>NaN</td>\n    </tr>\n    <tr>\n      <th>779947</th>\n      <td>Fallenglory</td>\n      <td>35.8</td>\n      <td>606.0</td>\n      <td>518790</td>\n      <td>3</td>\n      <td>2017-02-16</td>\n      <td>The Hunter was and is still the most realistic...</td>\n      <td>False</td>\n      <td>382</td>\n      <td>76561197992526609</td>\n      <td>...</td>\n      <td>2017-02-16</td>\n      <td>[Hunting, Open World, Multiplayer, Simulation,...</td>\n      <td>NaN</td>\n      <td>http://steamcommunity.com/app/518790/reviews/?...</td>\n      <td>[Single-player, Multi-player, Steam Achievemen...</td>\n      <td>29.99</td>\n      <td>False</td>\n      <td>Expansive Worlds</td>\n      <td>Mostly Positive</td>\n      <td>NaN</td>\n    </tr>\n    <tr>\n      <th>779948</th>\n      <td>GooseMan</td>\n      <td>32.4</td>\n      <td>166.0</td>\n      <td>518790</td>\n      <td>7</td>\n      <td>2017-02-16</td>\n      <td>Very good!</td>\n      <td>False</td>\n      <td>383</td>\n      <td>76561198037224895</td>\n      <td>...</td>\n      <td>2017-02-16</td>\n      <td>[Hunting, Open World, Multiplayer, Simulation,...</td>\n      <td>NaN</td>\n      <td>http://steamcommunity.com/app/518790/reviews/?...</td>\n      <td>[Single-player, Multi-player, Steam Achievemen...</td>\n      <td>29.99</td>\n      <td>False</td>\n      <td>Expansive Worlds</td>\n      <td>Mostly Positive</td>\n      <td>NaN</td>\n    </tr>\n    <tr>\n      <th>779949</th>\n      <td>lazyboy82</td>\n      <td>96.9</td>\n      <td>22.0</td>\n      <td>518790</td>\n      <td>3</td>\n      <td>2017-02-16</td>\n      <td>Update after 60+ hours:\\nI decided to quit the...</td>\n      <td>False</td>\n      <td>384</td>\n      <td>NaN</td>\n      <td>...</td>\n      <td>2017-02-16</td>\n      <td>[Hunting, Open World, Multiplayer, Simulation,...</td>\n      <td>NaN</td>\n      <td>http://steamcommunity.com/app/518790/reviews/?...</td>\n      <td>[Single-player, Multi-player, Steam Achievemen...</td>\n      <td>29.99</td>\n      <td>False</td>\n      <td>Expansive Worlds</td>\n      <td>Mostly Positive</td>\n      <td>NaN</td>\n    </tr>\n    <tr>\n      <th>779950</th>\n      <td>Parad0x +x</td>\n      <td>1.3</td>\n      <td>55.0</td>\n      <td>518790</td>\n      <td>3</td>\n      <td>2017-02-16</td>\n      <td>I would recommend this to any hunter loving fa...</td>\n      <td>False</td>\n      <td>385</td>\n      <td>76561198191446302</td>\n      <td>...</td>\n      <td>2017-02-16</td>\n      <td>[Hunting, Open World, Multiplayer, Simulation,...</td>\n      <td>NaN</td>\n      <td>http://steamcommunity.com/app/518790/reviews/?...</td>\n      <td>[Single-player, Multi-player, Steam Achievemen...</td>\n      <td>29.99</td>\n      <td>False</td>\n      <td>Expansive Worlds</td>\n      <td>Mostly Positive</td>\n      <td>NaN</td>\n    </tr>\n  </tbody>\n</table>\n<p>779951 rows × 27 columns</p>\n</div>"
          },
          "metadata": {},
          "execution_count": 87
        }
      ],
      "source": [
        "df = pd.merge(data_reviews, data_games, on=[\"id\"])\n",
        "df"
      ]
    },
    {
      "cell_type": "code",
      "execution_count": 88,
      "metadata": {},
      "outputs": [
        {
          "output_type": "execute_result",
          "data": {
            "text/plain": [
              "      username  hours  products      id  page_order        date  \\\n",
              "0  Chaos Syren    0.1      41.0  725280           0  2017-12-17   \n",
              "1  freakfantom    0.1    1706.0  725280           5  2017-11-12   \n",
              "2      Ariman1   13.2    1386.0  328100           2  2017-08-02   \n",
              "3        dll3z    0.4     314.0  328100           5  2017-03-07   \n",
              "4     Nyazicat    2.2    1224.0  328100           1  2017-01-09   \n",
              "\n",
              "                                                text  early_access_x  page  \\\n",
              "0  This would not be acceptable as an entertainme...           False     1   \n",
              "1   Прикольная стрелялка. Взял дешево на распродаже.           False     1   \n",
              "2  Addictive RPG ! Works fine on linux though it ...           False     1   \n",
              "3                               do not buy this game           False     2   \n",
              "4  For some reason I entirely derped out and boug...           False     3   \n",
              "\n",
              "  user_id  ... release_date                                      tags  \\\n",
              "0     NaN  ...   2017-11-10    [Action, Adventure, Indie, Simulation]   \n",
              "1     NaN  ...   2017-11-10    [Action, Adventure, Indie, Simulation]   \n",
              "2     NaN  ...   2014-11-07  [Adventure, RPG, Indie, Puzzle, Match 3]   \n",
              "3     NaN  ...   2014-11-07  [Adventure, RPG, Indie, Puzzle, Match 3]   \n",
              "4     NaN  ...   2014-11-07  [Adventure, RPG, Indie, Puzzle, Match 3]   \n",
              "\n",
              "  discount_price                                        reviews_url  \\\n",
              "0            NaN  http://steamcommunity.com/app/725280/reviews/?...   \n",
              "1            NaN  http://steamcommunity.com/app/725280/reviews/?...   \n",
              "2            NaN  http://steamcommunity.com/app/328100/reviews/?...   \n",
              "3            NaN  http://steamcommunity.com/app/328100/reviews/?...   \n",
              "4            NaN  http://steamcommunity.com/app/328100/reviews/?...   \n",
              "\n",
              "                                  specs  price early_access_y  \\\n",
              "0  [Single-player, Steam Trading Cards]   2.99          False   \n",
              "1  [Single-player, Steam Trading Cards]   2.99          False   \n",
              "2                       [Single-player]  14.99          False   \n",
              "3                       [Single-player]  14.99          False   \n",
              "4                       [Single-player]  14.99          False   \n",
              "\n",
              "              developer sentiment  metascore  \n",
              "0  Vyacheslav Shilikhin  Positive        NaN  \n",
              "1  Vyacheslav Shilikhin  Positive        NaN  \n",
              "2           Ino-Co Plus     Mixed        NaN  \n",
              "3           Ino-Co Plus     Mixed        NaN  \n",
              "4           Ino-Co Plus     Mixed        NaN  \n",
              "\n",
              "[5 rows x 27 columns]"
            ],
            "text/html": "<div>\n<style scoped>\n    .dataframe tbody tr th:only-of-type {\n        vertical-align: middle;\n    }\n\n    .dataframe tbody tr th {\n        vertical-align: top;\n    }\n\n    .dataframe thead th {\n        text-align: right;\n    }\n</style>\n<table border=\"1\" class=\"dataframe\">\n  <thead>\n    <tr style=\"text-align: right;\">\n      <th></th>\n      <th>username</th>\n      <th>hours</th>\n      <th>products</th>\n      <th>id</th>\n      <th>page_order</th>\n      <th>date</th>\n      <th>text</th>\n      <th>early_access_x</th>\n      <th>page</th>\n      <th>user_id</th>\n      <th>...</th>\n      <th>release_date</th>\n      <th>tags</th>\n      <th>discount_price</th>\n      <th>reviews_url</th>\n      <th>specs</th>\n      <th>price</th>\n      <th>early_access_y</th>\n      <th>developer</th>\n      <th>sentiment</th>\n      <th>metascore</th>\n    </tr>\n  </thead>\n  <tbody>\n    <tr>\n      <th>0</th>\n      <td>Chaos Syren</td>\n      <td>0.1</td>\n      <td>41.0</td>\n      <td>725280</td>\n      <td>0</td>\n      <td>2017-12-17</td>\n      <td>This would not be acceptable as an entertainme...</td>\n      <td>False</td>\n      <td>1</td>\n      <td>NaN</td>\n      <td>...</td>\n      <td>2017-11-10</td>\n      <td>[Action, Adventure, Indie, Simulation]</td>\n      <td>NaN</td>\n      <td>http://steamcommunity.com/app/725280/reviews/?...</td>\n      <td>[Single-player, Steam Trading Cards]</td>\n      <td>2.99</td>\n      <td>False</td>\n      <td>Vyacheslav Shilikhin</td>\n      <td>Positive</td>\n      <td>NaN</td>\n    </tr>\n    <tr>\n      <th>1</th>\n      <td>freakfantom</td>\n      <td>0.1</td>\n      <td>1706.0</td>\n      <td>725280</td>\n      <td>5</td>\n      <td>2017-11-12</td>\n      <td>Прикольная стрелялка. Взял дешево на распродаже.</td>\n      <td>False</td>\n      <td>1</td>\n      <td>NaN</td>\n      <td>...</td>\n      <td>2017-11-10</td>\n      <td>[Action, Adventure, Indie, Simulation]</td>\n      <td>NaN</td>\n      <td>http://steamcommunity.com/app/725280/reviews/?...</td>\n      <td>[Single-player, Steam Trading Cards]</td>\n      <td>2.99</td>\n      <td>False</td>\n      <td>Vyacheslav Shilikhin</td>\n      <td>Positive</td>\n      <td>NaN</td>\n    </tr>\n    <tr>\n      <th>2</th>\n      <td>Ariman1</td>\n      <td>13.2</td>\n      <td>1386.0</td>\n      <td>328100</td>\n      <td>2</td>\n      <td>2017-08-02</td>\n      <td>Addictive RPG ! Works fine on linux though it ...</td>\n      <td>False</td>\n      <td>1</td>\n      <td>NaN</td>\n      <td>...</td>\n      <td>2014-11-07</td>\n      <td>[Adventure, RPG, Indie, Puzzle, Match 3]</td>\n      <td>NaN</td>\n      <td>http://steamcommunity.com/app/328100/reviews/?...</td>\n      <td>[Single-player]</td>\n      <td>14.99</td>\n      <td>False</td>\n      <td>Ino-Co Plus</td>\n      <td>Mixed</td>\n      <td>NaN</td>\n    </tr>\n    <tr>\n      <th>3</th>\n      <td>dll3z</td>\n      <td>0.4</td>\n      <td>314.0</td>\n      <td>328100</td>\n      <td>5</td>\n      <td>2017-03-07</td>\n      <td>do not buy this game</td>\n      <td>False</td>\n      <td>2</td>\n      <td>NaN</td>\n      <td>...</td>\n      <td>2014-11-07</td>\n      <td>[Adventure, RPG, Indie, Puzzle, Match 3]</td>\n      <td>NaN</td>\n      <td>http://steamcommunity.com/app/328100/reviews/?...</td>\n      <td>[Single-player]</td>\n      <td>14.99</td>\n      <td>False</td>\n      <td>Ino-Co Plus</td>\n      <td>Mixed</td>\n      <td>NaN</td>\n    </tr>\n    <tr>\n      <th>4</th>\n      <td>Nyazicat</td>\n      <td>2.2</td>\n      <td>1224.0</td>\n      <td>328100</td>\n      <td>1</td>\n      <td>2017-01-09</td>\n      <td>For some reason I entirely derped out and boug...</td>\n      <td>False</td>\n      <td>3</td>\n      <td>NaN</td>\n      <td>...</td>\n      <td>2014-11-07</td>\n      <td>[Adventure, RPG, Indie, Puzzle, Match 3]</td>\n      <td>NaN</td>\n      <td>http://steamcommunity.com/app/328100/reviews/?...</td>\n      <td>[Single-player]</td>\n      <td>14.99</td>\n      <td>False</td>\n      <td>Ino-Co Plus</td>\n      <td>Mixed</td>\n      <td>NaN</td>\n    </tr>\n  </tbody>\n</table>\n<p>5 rows × 27 columns</p>\n</div>"
          },
          "metadata": {},
          "execution_count": 88
        }
      ],
      "source": [
        "df.head()"
      ]
    },
    {
      "source": [
        "___"
      ],
      "cell_type": "markdown",
      "metadata": {}
    },
    {
      "source": [
        "# Convertimos los usernames de str a int"
      ],
      "cell_type": "markdown",
      "metadata": {}
    },
    {
      "cell_type": "code",
      "execution_count": 89,
      "metadata": {},
      "outputs": [],
      "source": [
        "df_0 = pd.DataFrame(df.username.str.replace(' ', ''))"
      ]
    },
    {
      "cell_type": "code",
      "execution_count": 90,
      "metadata": {},
      "outputs": [
        {
          "output_type": "execute_result",
          "data": {
            "text/plain": [
              "      username\n",
              "0   ChaosSyren\n",
              "1  freakfantom\n",
              "2      Ariman1\n",
              "3        dll3z\n",
              "4     Nyazicat"
            ],
            "text/html": "<div>\n<style scoped>\n    .dataframe tbody tr th:only-of-type {\n        vertical-align: middle;\n    }\n\n    .dataframe tbody tr th {\n        vertical-align: top;\n    }\n\n    .dataframe thead th {\n        text-align: right;\n    }\n</style>\n<table border=\"1\" class=\"dataframe\">\n  <thead>\n    <tr style=\"text-align: right;\">\n      <th></th>\n      <th>username</th>\n    </tr>\n  </thead>\n  <tbody>\n    <tr>\n      <th>0</th>\n      <td>ChaosSyren</td>\n    </tr>\n    <tr>\n      <th>1</th>\n      <td>freakfantom</td>\n    </tr>\n    <tr>\n      <th>2</th>\n      <td>Ariman1</td>\n    </tr>\n    <tr>\n      <th>3</th>\n      <td>dll3z</td>\n    </tr>\n    <tr>\n      <th>4</th>\n      <td>Nyazicat</td>\n    </tr>\n  </tbody>\n</table>\n</div>"
          },
          "metadata": {},
          "execution_count": 90
        }
      ],
      "source": [
        "df_0.head()"
      ]
    },
    {
      "cell_type": "code",
      "execution_count": 91,
      "metadata": {},
      "outputs": [],
      "source": [
        "df_1 = pd.DataFrame(df_0.username.astype(\"category\").cat.codes)"
      ]
    },
    {
      "cell_type": "code",
      "execution_count": 92,
      "metadata": {},
      "outputs": [],
      "source": [
        "df_1.columns = ['users']"
      ]
    },
    {
      "cell_type": "code",
      "execution_count": 93,
      "metadata": {},
      "outputs": [
        {
          "output_type": "execute_result",
          "data": {
            "text/plain": [
              "    users\n",
              "0   62225\n",
              "1  431962\n",
              "2   26750\n",
              "3  422892\n",
              "4  245491"
            ],
            "text/html": "<div>\n<style scoped>\n    .dataframe tbody tr th:only-of-type {\n        vertical-align: middle;\n    }\n\n    .dataframe tbody tr th {\n        vertical-align: top;\n    }\n\n    .dataframe thead th {\n        text-align: right;\n    }\n</style>\n<table border=\"1\" class=\"dataframe\">\n  <thead>\n    <tr style=\"text-align: right;\">\n      <th></th>\n      <th>users</th>\n    </tr>\n  </thead>\n  <tbody>\n    <tr>\n      <th>0</th>\n      <td>62225</td>\n    </tr>\n    <tr>\n      <th>1</th>\n      <td>431962</td>\n    </tr>\n    <tr>\n      <th>2</th>\n      <td>26750</td>\n    </tr>\n    <tr>\n      <th>3</th>\n      <td>422892</td>\n    </tr>\n    <tr>\n      <th>4</th>\n      <td>245491</td>\n    </tr>\n  </tbody>\n</table>\n</div>"
          },
          "metadata": {},
          "execution_count": 93
        }
      ],
      "source": [
        "df_1.head()"
      ]
    },
    {
      "cell_type": "code",
      "execution_count": 94,
      "metadata": {},
      "outputs": [
        {
          "output_type": "execute_result",
          "data": {
            "text/plain": [
              "         users\n",
              "779946  485826\n",
              "779947  115225\n",
              "779948  136213\n",
              "779949  456420\n",
              "779950  255487"
            ],
            "text/html": "<div>\n<style scoped>\n    .dataframe tbody tr th:only-of-type {\n        vertical-align: middle;\n    }\n\n    .dataframe tbody tr th {\n        vertical-align: top;\n    }\n\n    .dataframe thead th {\n        text-align: right;\n    }\n</style>\n<table border=\"1\" class=\"dataframe\">\n  <thead>\n    <tr style=\"text-align: right;\">\n      <th></th>\n      <th>users</th>\n    </tr>\n  </thead>\n  <tbody>\n    <tr>\n      <th>779946</th>\n      <td>485826</td>\n    </tr>\n    <tr>\n      <th>779947</th>\n      <td>115225</td>\n    </tr>\n    <tr>\n      <th>779948</th>\n      <td>136213</td>\n    </tr>\n    <tr>\n      <th>779949</th>\n      <td>456420</td>\n    </tr>\n    <tr>\n      <th>779950</th>\n      <td>255487</td>\n    </tr>\n  </tbody>\n</table>\n</div>"
          },
          "metadata": {},
          "execution_count": 94
        }
      ],
      "source": [
        "df_1.tail()"
      ]
    },
    {
      "source": [
        "---"
      ],
      "cell_type": "markdown",
      "metadata": {}
    },
    {
      "source": [
        "# Acotamos el Dataset a las categorías que vamos a utilizar"
      ],
      "cell_type": "markdown",
      "metadata": {}
    },
    {
      "cell_type": "code",
      "execution_count": 95,
      "metadata": {},
      "outputs": [],
      "source": [
        "df_2 = df[['hours','id','app_name','tags']]"
      ]
    },
    {
      "cell_type": "code",
      "execution_count": 96,
      "metadata": {},
      "outputs": [
        {
          "output_type": "execute_result",
          "data": {
            "text/plain": [
              "   hours      id                  app_name  \\\n",
              "0    0.1  725280               Psi Project   \n",
              "1    0.1  725280               Psi Project   \n",
              "2   13.2  328100  Gunspell - Steam Edition   \n",
              "3    0.4  328100  Gunspell - Steam Edition   \n",
              "4    2.2  328100  Gunspell - Steam Edition   \n",
              "\n",
              "                                       tags  \n",
              "0    [Action, Adventure, Indie, Simulation]  \n",
              "1    [Action, Adventure, Indie, Simulation]  \n",
              "2  [Adventure, RPG, Indie, Puzzle, Match 3]  \n",
              "3  [Adventure, RPG, Indie, Puzzle, Match 3]  \n",
              "4  [Adventure, RPG, Indie, Puzzle, Match 3]  "
            ],
            "text/html": "<div>\n<style scoped>\n    .dataframe tbody tr th:only-of-type {\n        vertical-align: middle;\n    }\n\n    .dataframe tbody tr th {\n        vertical-align: top;\n    }\n\n    .dataframe thead th {\n        text-align: right;\n    }\n</style>\n<table border=\"1\" class=\"dataframe\">\n  <thead>\n    <tr style=\"text-align: right;\">\n      <th></th>\n      <th>hours</th>\n      <th>id</th>\n      <th>app_name</th>\n      <th>tags</th>\n    </tr>\n  </thead>\n  <tbody>\n    <tr>\n      <th>0</th>\n      <td>0.1</td>\n      <td>725280</td>\n      <td>Psi Project</td>\n      <td>[Action, Adventure, Indie, Simulation]</td>\n    </tr>\n    <tr>\n      <th>1</th>\n      <td>0.1</td>\n      <td>725280</td>\n      <td>Psi Project</td>\n      <td>[Action, Adventure, Indie, Simulation]</td>\n    </tr>\n    <tr>\n      <th>2</th>\n      <td>13.2</td>\n      <td>328100</td>\n      <td>Gunspell - Steam Edition</td>\n      <td>[Adventure, RPG, Indie, Puzzle, Match 3]</td>\n    </tr>\n    <tr>\n      <th>3</th>\n      <td>0.4</td>\n      <td>328100</td>\n      <td>Gunspell - Steam Edition</td>\n      <td>[Adventure, RPG, Indie, Puzzle, Match 3]</td>\n    </tr>\n    <tr>\n      <th>4</th>\n      <td>2.2</td>\n      <td>328100</td>\n      <td>Gunspell - Steam Edition</td>\n      <td>[Adventure, RPG, Indie, Puzzle, Match 3]</td>\n    </tr>\n  </tbody>\n</table>\n</div>"
          },
          "metadata": {},
          "execution_count": 96
        }
      ],
      "source": [
        "df_2.head()"
      ]
    },
    {
      "source": [
        "---"
      ],
      "cell_type": "markdown",
      "metadata": {}
    },
    {
      "source": [
        "* Usamos el code para ver si referencia bien el ID con las peliculas"
      ],
      "cell_type": "markdown",
      "metadata": {}
    },
    {
      "cell_type": "code",
      "execution_count": 97,
      "metadata": {},
      "outputs": [
        {
          "output_type": "stream",
          "name": "stdout",
          "text": [
            "Batman: Arkham Asylum Game of the Year Edition\n['Action', 'Batman', 'Stealth', 'Adventure', 'Third Person', 'Superhero', 'Singleplayer', \"Beat 'em up\", 'Open World', 'Comic Book', 'Detective', 'Atmospheric', 'Story Rich', 'Fighting', 'Action-Adventure', 'Controller', 'Metroidvania', '3D Vision', 'Puzzle', 'Horror']\n"
          ]
        }
      ],
      "source": [
        "game_id = 432\n",
        "print(df_2.loc[game_id].app_name)\n",
        "print(df_2.loc[game_id].tags)"
      ]
    },
    {
      "cell_type": "code",
      "execution_count": 98,
      "metadata": {},
      "outputs": [
        {
          "output_type": "execute_result",
          "data": {
            "text/plain": [
              "hours       2637\n",
              "id             0\n",
              "app_name       0\n",
              "tags           4\n",
              "dtype: int64"
            ]
          },
          "metadata": {},
          "execution_count": 98
        }
      ],
      "source": [
        "df_2.isna().sum()"
      ]
    },
    {
      "cell_type": "code",
      "execution_count": 99,
      "metadata": {},
      "outputs": [],
      "source": [
        "dfx = df_2.dropna()"
      ]
    },
    {
      "cell_type": "code",
      "execution_count": 100,
      "metadata": {},
      "outputs": [
        {
          "output_type": "execute_result",
          "data": {
            "text/plain": [
              "   hours      id                  app_name  \\\n",
              "0    0.1  725280               Psi Project   \n",
              "1    0.1  725280               Psi Project   \n",
              "2   13.2  328100  Gunspell - Steam Edition   \n",
              "3    0.4  328100  Gunspell - Steam Edition   \n",
              "4    2.2  328100  Gunspell - Steam Edition   \n",
              "\n",
              "                                       tags  \n",
              "0    [Action, Adventure, Indie, Simulation]  \n",
              "1    [Action, Adventure, Indie, Simulation]  \n",
              "2  [Adventure, RPG, Indie, Puzzle, Match 3]  \n",
              "3  [Adventure, RPG, Indie, Puzzle, Match 3]  \n",
              "4  [Adventure, RPG, Indie, Puzzle, Match 3]  "
            ],
            "text/html": "<div>\n<style scoped>\n    .dataframe tbody tr th:only-of-type {\n        vertical-align: middle;\n    }\n\n    .dataframe tbody tr th {\n        vertical-align: top;\n    }\n\n    .dataframe thead th {\n        text-align: right;\n    }\n</style>\n<table border=\"1\" class=\"dataframe\">\n  <thead>\n    <tr style=\"text-align: right;\">\n      <th></th>\n      <th>hours</th>\n      <th>id</th>\n      <th>app_name</th>\n      <th>tags</th>\n    </tr>\n  </thead>\n  <tbody>\n    <tr>\n      <th>0</th>\n      <td>0.1</td>\n      <td>725280</td>\n      <td>Psi Project</td>\n      <td>[Action, Adventure, Indie, Simulation]</td>\n    </tr>\n    <tr>\n      <th>1</th>\n      <td>0.1</td>\n      <td>725280</td>\n      <td>Psi Project</td>\n      <td>[Action, Adventure, Indie, Simulation]</td>\n    </tr>\n    <tr>\n      <th>2</th>\n      <td>13.2</td>\n      <td>328100</td>\n      <td>Gunspell - Steam Edition</td>\n      <td>[Adventure, RPG, Indie, Puzzle, Match 3]</td>\n    </tr>\n    <tr>\n      <th>3</th>\n      <td>0.4</td>\n      <td>328100</td>\n      <td>Gunspell - Steam Edition</td>\n      <td>[Adventure, RPG, Indie, Puzzle, Match 3]</td>\n    </tr>\n    <tr>\n      <th>4</th>\n      <td>2.2</td>\n      <td>328100</td>\n      <td>Gunspell - Steam Edition</td>\n      <td>[Adventure, RPG, Indie, Puzzle, Match 3]</td>\n    </tr>\n  </tbody>\n</table>\n</div>"
          },
          "metadata": {},
          "execution_count": 100
        }
      ],
      "source": [
        "dfx.head()"
      ]
    },
    {
      "source": [
        "---"
      ],
      "cell_type": "markdown",
      "metadata": {}
    },
    {
      "cell_type": "code",
      "execution_count": 101,
      "metadata": {},
      "outputs": [],
      "source": [
        "dfy = pd.merge(df_1,df_2, right_index=True, left_index=True)"
      ]
    },
    {
      "cell_type": "code",
      "execution_count": 102,
      "metadata": {},
      "outputs": [
        {
          "output_type": "execute_result",
          "data": {
            "text/plain": [
              "         users   hours      id               app_name  \\\n",
              "698212       0     6.5  386360                 SMITE®   \n",
              "497676       1  1522.2  230410               Warframe   \n",
              "239234       1     3.1  327890             I am Bread   \n",
              "96992        2     6.3  636040           Pixel Worlds   \n",
              "208544       2    10.5  304050                  Trove   \n",
              "...        ...     ...     ...                    ...   \n",
              "219945  537500     1.9  302830            BLOCKADE 3D   \n",
              "238136  537501    27.9   99900         Spiral Knights   \n",
              "263909  537501     6.1  337340       Finding Paradise   \n",
              "111145  537502     5.3  322330  Don't Starve Together   \n",
              "763555  537503    22.1  391540              Undertale   \n",
              "\n",
              "                                                     tags  \n",
              "698212  [Free to Play, MOBA, Multiplayer, Action, Thir...  \n",
              "497676  [Free to Play, Action, Co-op, Multiplayer, Thi...  \n",
              "239234  [Simulation, Funny, Comedy, Physics, Adventure...  \n",
              "96992   [Free to Play, Adventure, Massively Multiplaye...  \n",
              "208544  [Free to Play, Open World, Multiplayer, Advent...  \n",
              "...                                                   ...  \n",
              "219945  [Early Access, Free to Play, Shooter, Multipla...  \n",
              "238136  [Free to Play, Massively Multiplayer, Adventur...  \n",
              "263909  [Story Rich, Great Soundtrack, Indie, Adventur...  \n",
              "111145  [Survival, Multiplayer, Co-op, Open World, Adv...  \n",
              "763555  [Great Soundtrack, Story Rich, Choices Matter,...  \n",
              "\n",
              "[779951 rows x 5 columns]"
            ],
            "text/html": "<div>\n<style scoped>\n    .dataframe tbody tr th:only-of-type {\n        vertical-align: middle;\n    }\n\n    .dataframe tbody tr th {\n        vertical-align: top;\n    }\n\n    .dataframe thead th {\n        text-align: right;\n    }\n</style>\n<table border=\"1\" class=\"dataframe\">\n  <thead>\n    <tr style=\"text-align: right;\">\n      <th></th>\n      <th>users</th>\n      <th>hours</th>\n      <th>id</th>\n      <th>app_name</th>\n      <th>tags</th>\n    </tr>\n  </thead>\n  <tbody>\n    <tr>\n      <th>698212</th>\n      <td>0</td>\n      <td>6.5</td>\n      <td>386360</td>\n      <td>SMITE®</td>\n      <td>[Free to Play, MOBA, Multiplayer, Action, Thir...</td>\n    </tr>\n    <tr>\n      <th>497676</th>\n      <td>1</td>\n      <td>1522.2</td>\n      <td>230410</td>\n      <td>Warframe</td>\n      <td>[Free to Play, Action, Co-op, Multiplayer, Thi...</td>\n    </tr>\n    <tr>\n      <th>239234</th>\n      <td>1</td>\n      <td>3.1</td>\n      <td>327890</td>\n      <td>I am Bread</td>\n      <td>[Simulation, Funny, Comedy, Physics, Adventure...</td>\n    </tr>\n    <tr>\n      <th>96992</th>\n      <td>2</td>\n      <td>6.3</td>\n      <td>636040</td>\n      <td>Pixel Worlds</td>\n      <td>[Free to Play, Adventure, Massively Multiplaye...</td>\n    </tr>\n    <tr>\n      <th>208544</th>\n      <td>2</td>\n      <td>10.5</td>\n      <td>304050</td>\n      <td>Trove</td>\n      <td>[Free to Play, Open World, Multiplayer, Advent...</td>\n    </tr>\n    <tr>\n      <th>...</th>\n      <td>...</td>\n      <td>...</td>\n      <td>...</td>\n      <td>...</td>\n      <td>...</td>\n    </tr>\n    <tr>\n      <th>219945</th>\n      <td>537500</td>\n      <td>1.9</td>\n      <td>302830</td>\n      <td>BLOCKADE 3D</td>\n      <td>[Early Access, Free to Play, Shooter, Multipla...</td>\n    </tr>\n    <tr>\n      <th>238136</th>\n      <td>537501</td>\n      <td>27.9</td>\n      <td>99900</td>\n      <td>Spiral Knights</td>\n      <td>[Free to Play, Massively Multiplayer, Adventur...</td>\n    </tr>\n    <tr>\n      <th>263909</th>\n      <td>537501</td>\n      <td>6.1</td>\n      <td>337340</td>\n      <td>Finding Paradise</td>\n      <td>[Story Rich, Great Soundtrack, Indie, Adventur...</td>\n    </tr>\n    <tr>\n      <th>111145</th>\n      <td>537502</td>\n      <td>5.3</td>\n      <td>322330</td>\n      <td>Don't Starve Together</td>\n      <td>[Survival, Multiplayer, Co-op, Open World, Adv...</td>\n    </tr>\n    <tr>\n      <th>763555</th>\n      <td>537503</td>\n      <td>22.1</td>\n      <td>391540</td>\n      <td>Undertale</td>\n      <td>[Great Soundtrack, Story Rich, Choices Matter,...</td>\n    </tr>\n  </tbody>\n</table>\n<p>779951 rows × 5 columns</p>\n</div>"
          },
          "metadata": {},
          "execution_count": 102
        }
      ],
      "source": [
        "dfy.sort_values('users', ascending=True)"
      ]
    },
    {
      "cell_type": "code",
      "execution_count": 103,
      "metadata": {},
      "outputs": [],
      "source": [
        "df_11 = dfy.truncate( after=10000)"
      ]
    },
    {
      "cell_type": "code",
      "execution_count": 104,
      "metadata": {},
      "outputs": [
        {
          "output_type": "execute_result",
          "data": {
            "text/plain": [
              "        users  hours      id                      app_name  \\\n",
              "9996   188261    0.1  310370  The Way of Life Free Edition   \n",
              "9997   224089    0.2  310370  The Way of Life Free Edition   \n",
              "9998   537480    0.4  310370  The Way of Life Free Edition   \n",
              "9999   193903    0.2  310370  The Way of Life Free Edition   \n",
              "10000  153287    0.5  310370  The Way of Life Free Edition   \n",
              "\n",
              "                                                    tags  \n",
              "9996   [Free to Play, Walking Simulator, First-Person...  \n",
              "9997   [Free to Play, Walking Simulator, First-Person...  \n",
              "9998   [Free to Play, Walking Simulator, First-Person...  \n",
              "9999   [Free to Play, Walking Simulator, First-Person...  \n",
              "10000  [Free to Play, Walking Simulator, First-Person...  "
            ],
            "text/html": "<div>\n<style scoped>\n    .dataframe tbody tr th:only-of-type {\n        vertical-align: middle;\n    }\n\n    .dataframe tbody tr th {\n        vertical-align: top;\n    }\n\n    .dataframe thead th {\n        text-align: right;\n    }\n</style>\n<table border=\"1\" class=\"dataframe\">\n  <thead>\n    <tr style=\"text-align: right;\">\n      <th></th>\n      <th>users</th>\n      <th>hours</th>\n      <th>id</th>\n      <th>app_name</th>\n      <th>tags</th>\n    </tr>\n  </thead>\n  <tbody>\n    <tr>\n      <th>9996</th>\n      <td>188261</td>\n      <td>0.1</td>\n      <td>310370</td>\n      <td>The Way of Life Free Edition</td>\n      <td>[Free to Play, Walking Simulator, First-Person...</td>\n    </tr>\n    <tr>\n      <th>9997</th>\n      <td>224089</td>\n      <td>0.2</td>\n      <td>310370</td>\n      <td>The Way of Life Free Edition</td>\n      <td>[Free to Play, Walking Simulator, First-Person...</td>\n    </tr>\n    <tr>\n      <th>9998</th>\n      <td>537480</td>\n      <td>0.4</td>\n      <td>310370</td>\n      <td>The Way of Life Free Edition</td>\n      <td>[Free to Play, Walking Simulator, First-Person...</td>\n    </tr>\n    <tr>\n      <th>9999</th>\n      <td>193903</td>\n      <td>0.2</td>\n      <td>310370</td>\n      <td>The Way of Life Free Edition</td>\n      <td>[Free to Play, Walking Simulator, First-Person...</td>\n    </tr>\n    <tr>\n      <th>10000</th>\n      <td>153287</td>\n      <td>0.5</td>\n      <td>310370</td>\n      <td>The Way of Life Free Edition</td>\n      <td>[Free to Play, Walking Simulator, First-Person...</td>\n    </tr>\n  </tbody>\n</table>\n</div>"
          },
          "metadata": {},
          "execution_count": 104
        }
      ],
      "source": [
        "df_11.tail()"
      ]
    },
    {
      "cell_type": "code",
      "execution_count": 105,
      "metadata": {},
      "outputs": [],
      "source": [
        "dfw = dfy.truncate( after=10000)"
      ]
    },
    {
      "cell_type": "code",
      "execution_count": 106,
      "metadata": {},
      "outputs": [],
      "source": [
        "df_11['tags']=[\" \".join(tags) for tags in df_11['tags'].values]"
      ]
    },
    {
      "cell_type": "code",
      "execution_count": 107,
      "metadata": {},
      "outputs": [
        {
          "output_type": "execute_result",
          "data": {
            "text/plain": [
              "    users  hours      id                  app_name  \\\n",
              "0   62225    0.1  725280               Psi Project   \n",
              "1  431962    0.1  725280               Psi Project   \n",
              "2   26750   13.2  328100  Gunspell - Steam Edition   \n",
              "3  422892    0.4  328100  Gunspell - Steam Edition   \n",
              "4  245491    2.2  328100  Gunspell - Steam Edition   \n",
              "\n",
              "                                 tags  \n",
              "0   Action Adventure Indie Simulation  \n",
              "1   Action Adventure Indie Simulation  \n",
              "2  Adventure RPG Indie Puzzle Match 3  \n",
              "3  Adventure RPG Indie Puzzle Match 3  \n",
              "4  Adventure RPG Indie Puzzle Match 3  "
            ],
            "text/html": "<div>\n<style scoped>\n    .dataframe tbody tr th:only-of-type {\n        vertical-align: middle;\n    }\n\n    .dataframe tbody tr th {\n        vertical-align: top;\n    }\n\n    .dataframe thead th {\n        text-align: right;\n    }\n</style>\n<table border=\"1\" class=\"dataframe\">\n  <thead>\n    <tr style=\"text-align: right;\">\n      <th></th>\n      <th>users</th>\n      <th>hours</th>\n      <th>id</th>\n      <th>app_name</th>\n      <th>tags</th>\n    </tr>\n  </thead>\n  <tbody>\n    <tr>\n      <th>0</th>\n      <td>62225</td>\n      <td>0.1</td>\n      <td>725280</td>\n      <td>Psi Project</td>\n      <td>Action Adventure Indie Simulation</td>\n    </tr>\n    <tr>\n      <th>1</th>\n      <td>431962</td>\n      <td>0.1</td>\n      <td>725280</td>\n      <td>Psi Project</td>\n      <td>Action Adventure Indie Simulation</td>\n    </tr>\n    <tr>\n      <th>2</th>\n      <td>26750</td>\n      <td>13.2</td>\n      <td>328100</td>\n      <td>Gunspell - Steam Edition</td>\n      <td>Adventure RPG Indie Puzzle Match 3</td>\n    </tr>\n    <tr>\n      <th>3</th>\n      <td>422892</td>\n      <td>0.4</td>\n      <td>328100</td>\n      <td>Gunspell - Steam Edition</td>\n      <td>Adventure RPG Indie Puzzle Match 3</td>\n    </tr>\n    <tr>\n      <th>4</th>\n      <td>245491</td>\n      <td>2.2</td>\n      <td>328100</td>\n      <td>Gunspell - Steam Edition</td>\n      <td>Adventure RPG Indie Puzzle Match 3</td>\n    </tr>\n  </tbody>\n</table>\n</div>"
          },
          "metadata": {},
          "execution_count": 107
        }
      ],
      "source": [
        "df_11.head()"
      ]
    },
    {
      "cell_type": "code",
      "execution_count": 108,
      "metadata": {},
      "outputs": [],
      "source": [
        "df_111 = df_11.drop(['hours', 'tags', 'app_name'], 1)"
      ]
    },
    {
      "cell_type": "code",
      "execution_count": 109,
      "metadata": {},
      "outputs": [],
      "source": [
        "dr = pd.DataFrame(pd.qcut(df_11['hours'], 6, labels=['verybad', \"bad\", \"medium\", \"good\", 'verygood','Excelent']).dropna())"
      ]
    },
    {
      "cell_type": "code",
      "execution_count": 110,
      "metadata": {},
      "outputs": [
        {
          "output_type": "execute_result",
          "data": {
            "text/plain": [
              "     hours\n",
              "0  verybad\n",
              "1  verybad\n",
              "2      bad\n",
              "3  verybad\n",
              "4  verybad"
            ],
            "text/html": "<div>\n<style scoped>\n    .dataframe tbody tr th:only-of-type {\n        vertical-align: middle;\n    }\n\n    .dataframe tbody tr th {\n        vertical-align: top;\n    }\n\n    .dataframe thead th {\n        text-align: right;\n    }\n</style>\n<table border=\"1\" class=\"dataframe\">\n  <thead>\n    <tr style=\"text-align: right;\">\n      <th></th>\n      <th>hours</th>\n    </tr>\n  </thead>\n  <tbody>\n    <tr>\n      <th>0</th>\n      <td>verybad</td>\n    </tr>\n    <tr>\n      <th>1</th>\n      <td>verybad</td>\n    </tr>\n    <tr>\n      <th>2</th>\n      <td>bad</td>\n    </tr>\n    <tr>\n      <th>3</th>\n      <td>verybad</td>\n    </tr>\n    <tr>\n      <th>4</th>\n      <td>verybad</td>\n    </tr>\n  </tbody>\n</table>\n</div>"
          },
          "metadata": {},
          "execution_count": 110
        }
      ],
      "source": [
        "dr.head()"
      ]
    },
    {
      "cell_type": "code",
      "execution_count": 111,
      "metadata": {},
      "outputs": [],
      "source": [
        "dr2 = pd.DataFrame(dr.hours.astype(\"category\").cat.codes)"
      ]
    },
    {
      "cell_type": "code",
      "execution_count": 112,
      "metadata": {},
      "outputs": [
        {
          "output_type": "execute_result",
          "data": {
            "text/plain": [
              "   0\n",
              "0  0\n",
              "1  0\n",
              "2  1\n",
              "3  0\n",
              "4  0"
            ],
            "text/html": "<div>\n<style scoped>\n    .dataframe tbody tr th:only-of-type {\n        vertical-align: middle;\n    }\n\n    .dataframe tbody tr th {\n        vertical-align: top;\n    }\n\n    .dataframe thead th {\n        text-align: right;\n    }\n</style>\n<table border=\"1\" class=\"dataframe\">\n  <thead>\n    <tr style=\"text-align: right;\">\n      <th></th>\n      <th>0</th>\n    </tr>\n  </thead>\n  <tbody>\n    <tr>\n      <th>0</th>\n      <td>0</td>\n    </tr>\n    <tr>\n      <th>1</th>\n      <td>0</td>\n    </tr>\n    <tr>\n      <th>2</th>\n      <td>1</td>\n    </tr>\n    <tr>\n      <th>3</th>\n      <td>0</td>\n    </tr>\n    <tr>\n      <th>4</th>\n      <td>0</td>\n    </tr>\n  </tbody>\n</table>\n</div>"
          },
          "metadata": {},
          "execution_count": 112
        }
      ],
      "source": [
        "dr2.head()"
      ]
    },
    {
      "cell_type": "code",
      "execution_count": 113,
      "metadata": {},
      "outputs": [],
      "source": [
        "dr2.columns = ['rating']"
      ]
    },
    {
      "cell_type": "code",
      "execution_count": 114,
      "metadata": {},
      "outputs": [],
      "source": [
        "dr3 = pd.merge(dr2,df_111, right_index=True, left_index=True)"
      ]
    },
    {
      "cell_type": "code",
      "execution_count": 115,
      "metadata": {},
      "outputs": [
        {
          "output_type": "execute_result",
          "data": {
            "text/plain": [
              "            rating          users\n",
              "count  9994.000000    9994.000000\n",
              "mean      2.498399  260580.262758\n",
              "std       1.709003  152248.263116\n",
              "min       0.000000     159.000000\n",
              "25%       1.000000  130433.750000\n",
              "50%       2.000000  257583.000000\n",
              "75%       4.000000  383443.250000\n",
              "max       5.000000  537480.000000"
            ],
            "text/html": "<div>\n<style scoped>\n    .dataframe tbody tr th:only-of-type {\n        vertical-align: middle;\n    }\n\n    .dataframe tbody tr th {\n        vertical-align: top;\n    }\n\n    .dataframe thead th {\n        text-align: right;\n    }\n</style>\n<table border=\"1\" class=\"dataframe\">\n  <thead>\n    <tr style=\"text-align: right;\">\n      <th></th>\n      <th>rating</th>\n      <th>users</th>\n    </tr>\n  </thead>\n  <tbody>\n    <tr>\n      <th>count</th>\n      <td>9994.000000</td>\n      <td>9994.000000</td>\n    </tr>\n    <tr>\n      <th>mean</th>\n      <td>2.498399</td>\n      <td>260580.262758</td>\n    </tr>\n    <tr>\n      <th>std</th>\n      <td>1.709003</td>\n      <td>152248.263116</td>\n    </tr>\n    <tr>\n      <th>min</th>\n      <td>0.000000</td>\n      <td>159.000000</td>\n    </tr>\n    <tr>\n      <th>25%</th>\n      <td>1.000000</td>\n      <td>130433.750000</td>\n    </tr>\n    <tr>\n      <th>50%</th>\n      <td>2.000000</td>\n      <td>257583.000000</td>\n    </tr>\n    <tr>\n      <th>75%</th>\n      <td>4.000000</td>\n      <td>383443.250000</td>\n    </tr>\n    <tr>\n      <th>max</th>\n      <td>5.000000</td>\n      <td>537480.000000</td>\n    </tr>\n  </tbody>\n</table>\n</div>"
          },
          "metadata": {},
          "execution_count": 115
        }
      ],
      "source": [
        "dr3.describe()"
      ]
    },
    {
      "cell_type": "code",
      "execution_count": 116,
      "metadata": {},
      "outputs": [],
      "source": [
        "dr3 = dr3.dropna()"
      ]
    },
    {
      "cell_type": "code",
      "execution_count": 117,
      "metadata": {},
      "outputs": [
        {
          "output_type": "execute_result",
          "data": {
            "text/plain": [
              "      rating   users      id\n",
              "0          0   62225  725280\n",
              "1          0  431962  725280\n",
              "2          1   26750  328100\n",
              "3          0  422892  328100\n",
              "4          0  245491  328100\n",
              "...      ...     ...     ...\n",
              "9996       0  188261  310370\n",
              "9997       0  224089  310370\n",
              "9998       0  537480  310370\n",
              "9999       0  193903  310370\n",
              "10000      0  153287  310370\n",
              "\n",
              "[9994 rows x 3 columns]"
            ],
            "text/html": "<div>\n<style scoped>\n    .dataframe tbody tr th:only-of-type {\n        vertical-align: middle;\n    }\n\n    .dataframe tbody tr th {\n        vertical-align: top;\n    }\n\n    .dataframe thead th {\n        text-align: right;\n    }\n</style>\n<table border=\"1\" class=\"dataframe\">\n  <thead>\n    <tr style=\"text-align: right;\">\n      <th></th>\n      <th>rating</th>\n      <th>users</th>\n      <th>id</th>\n    </tr>\n  </thead>\n  <tbody>\n    <tr>\n      <th>0</th>\n      <td>0</td>\n      <td>62225</td>\n      <td>725280</td>\n    </tr>\n    <tr>\n      <th>1</th>\n      <td>0</td>\n      <td>431962</td>\n      <td>725280</td>\n    </tr>\n    <tr>\n      <th>2</th>\n      <td>1</td>\n      <td>26750</td>\n      <td>328100</td>\n    </tr>\n    <tr>\n      <th>3</th>\n      <td>0</td>\n      <td>422892</td>\n      <td>328100</td>\n    </tr>\n    <tr>\n      <th>4</th>\n      <td>0</td>\n      <td>245491</td>\n      <td>328100</td>\n    </tr>\n    <tr>\n      <th>...</th>\n      <td>...</td>\n      <td>...</td>\n      <td>...</td>\n    </tr>\n    <tr>\n      <th>9996</th>\n      <td>0</td>\n      <td>188261</td>\n      <td>310370</td>\n    </tr>\n    <tr>\n      <th>9997</th>\n      <td>0</td>\n      <td>224089</td>\n      <td>310370</td>\n    </tr>\n    <tr>\n      <th>9998</th>\n      <td>0</td>\n      <td>537480</td>\n      <td>310370</td>\n    </tr>\n    <tr>\n      <th>9999</th>\n      <td>0</td>\n      <td>193903</td>\n      <td>310370</td>\n    </tr>\n    <tr>\n      <th>10000</th>\n      <td>0</td>\n      <td>153287</td>\n      <td>310370</td>\n    </tr>\n  </tbody>\n</table>\n<p>9994 rows × 3 columns</p>\n</div>"
          },
          "metadata": {},
          "execution_count": 117
        }
      ],
      "source": [
        "dr3.astype('str')"
      ]
    },
    {
      "source": [
        "---"
      ],
      "cell_type": "markdown",
      "metadata": {}
    },
    {
      "source": [
        "## Aplicamos la libreria Surprise"
      ],
      "cell_type": "markdown",
      "metadata": {}
    },
    {
      "cell_type": "code",
      "execution_count": 118,
      "metadata": {},
      "outputs": [],
      "source": [
        "N_filas = 10000\n",
        "data = Dataset.load_from_df(dr3[['users', 'id', 'rating']][:N_filas], reader)"
      ]
    },
    {
      "cell_type": "code",
      "execution_count": 119,
      "metadata": {},
      "outputs": [],
      "source": [
        "from surprise.model_selection import train_test_split as tts"
      ]
    },
    {
      "cell_type": "code",
      "execution_count": 120,
      "metadata": {},
      "outputs": [],
      "source": [
        "trainset, testset = tts(data, test_size=0.25)"
      ]
    },
    {
      "cell_type": "code",
      "execution_count": 121,
      "metadata": {},
      "outputs": [],
      "source": [
        "from surprise import SVD"
      ]
    },
    {
      "cell_type": "code",
      "execution_count": 122,
      "metadata": {},
      "outputs": [],
      "source": [
        "algo = SVD()"
      ]
    },
    {
      "cell_type": "code",
      "execution_count": 123,
      "metadata": {},
      "outputs": [
        {
          "output_type": "execute_result",
          "data": {
            "text/plain": [
              "<surprise.prediction_algorithms.matrix_factorization.SVD at 0x7feec3d832d0>"
            ]
          },
          "metadata": {},
          "execution_count": 123
        }
      ],
      "source": [
        "algo.fit(trainset)"
      ]
    },
    {
      "cell_type": "code",
      "execution_count": null,
      "metadata": {},
      "outputs": [],
      "source": []
    },
    {
      "cell_type": "code",
      "execution_count": 124,
      "metadata": {},
      "outputs": [],
      "source": [
        "predictions = algo.test(testset)"
      ]
    },
    {
      "cell_type": "code",
      "execution_count": 125,
      "metadata": {},
      "outputs": [
        {
          "output_type": "execute_result",
          "data": {
            "text/plain": [
              "Prediction(uid=447084, iid='271590', r_ui=4.0, est=3.471168173849336, details={'was_impossible': False})"
            ]
          },
          "metadata": {},
          "execution_count": 125
        }
      ],
      "source": [
        "predictions[1]"
      ]
    },
    {
      "cell_type": "code",
      "execution_count": 126,
      "metadata": {},
      "outputs": [
        {
          "output_type": "stream",
          "name": "stdout",
          "text": [
            "RMSE: 1.1864\n"
          ]
        },
        {
          "output_type": "execute_result",
          "data": {
            "text/plain": [
              "1.1864149613827821"
            ]
          },
          "metadata": {},
          "execution_count": 126
        }
      ],
      "source": [
        "\n",
        "from surprise import accuracy\n",
        "accuracy.rmse(predictions)"
      ]
    },
    {
      "cell_type": "code",
      "execution_count": 127,
      "metadata": {},
      "outputs": [
        {
          "output_type": "execute_result",
          "data": {
            "text/plain": [
              "   rating  users      id     app_name\n",
              "0       1  26750  328100  Psi Project"
            ],
            "text/html": "<div>\n<style scoped>\n    .dataframe tbody tr th:only-of-type {\n        vertical-align: middle;\n    }\n\n    .dataframe tbody tr th {\n        vertical-align: top;\n    }\n\n    .dataframe thead th {\n        text-align: right;\n    }\n</style>\n<table border=\"1\" class=\"dataframe\">\n  <thead>\n    <tr style=\"text-align: right;\">\n      <th></th>\n      <th>rating</th>\n      <th>users</th>\n      <th>id</th>\n      <th>app_name</th>\n    </tr>\n  </thead>\n  <tbody>\n    <tr>\n      <th>0</th>\n      <td>1</td>\n      <td>26750</td>\n      <td>328100</td>\n      <td>Psi Project</td>\n    </tr>\n  </tbody>\n</table>\n</div>"
          },
          "metadata": {},
          "execution_count": 127
        }
      ],
      "source": [
        "usuario = 26750\n",
        "rating = 1 # le pedimos peliculas a las que haya puesto 4 o 5 estrellas\n",
        "df_user = dr3[(dr3['users'] == usuario) & (dr3['rating'] >= rating)]\n",
        "df_user = df_user.reset_index(drop=True)\n",
        "df_user['app_name'] = df_11['app_name'].loc[df_user.rating].values\n",
        "df_user"
      ]
    },
    {
      "cell_type": "code",
      "execution_count": 128,
      "metadata": {},
      "outputs": [
        {
          "output_type": "stream",
          "name": "stdout",
          "text": [
            "(10001, 5)\n"
          ]
        },
        {
          "output_type": "execute_result",
          "data": {
            "text/plain": [
              "    users  hours      id                  app_name  \\\n",
              "0   62225    0.1  725280               Psi Project   \n",
              "1  431962    0.1  725280               Psi Project   \n",
              "2   26750   13.2  328100  Gunspell - Steam Edition   \n",
              "3  422892    0.4  328100  Gunspell - Steam Edition   \n",
              "4  245491    2.2  328100  Gunspell - Steam Edition   \n",
              "\n",
              "                                 tags  \n",
              "0   Action Adventure Indie Simulation  \n",
              "1   Action Adventure Indie Simulation  \n",
              "2  Adventure RPG Indie Puzzle Match 3  \n",
              "3  Adventure RPG Indie Puzzle Match 3  \n",
              "4  Adventure RPG Indie Puzzle Match 3  "
            ],
            "text/html": "<div>\n<style scoped>\n    .dataframe tbody tr th:only-of-type {\n        vertical-align: middle;\n    }\n\n    .dataframe tbody tr th {\n        vertical-align: top;\n    }\n\n    .dataframe thead th {\n        text-align: right;\n    }\n</style>\n<table border=\"1\" class=\"dataframe\">\n  <thead>\n    <tr style=\"text-align: right;\">\n      <th></th>\n      <th>users</th>\n      <th>hours</th>\n      <th>id</th>\n      <th>app_name</th>\n      <th>tags</th>\n    </tr>\n  </thead>\n  <tbody>\n    <tr>\n      <th>0</th>\n      <td>62225</td>\n      <td>0.1</td>\n      <td>725280</td>\n      <td>Psi Project</td>\n      <td>Action Adventure Indie Simulation</td>\n    </tr>\n    <tr>\n      <th>1</th>\n      <td>431962</td>\n      <td>0.1</td>\n      <td>725280</td>\n      <td>Psi Project</td>\n      <td>Action Adventure Indie Simulation</td>\n    </tr>\n    <tr>\n      <th>2</th>\n      <td>26750</td>\n      <td>13.2</td>\n      <td>328100</td>\n      <td>Gunspell - Steam Edition</td>\n      <td>Adventure RPG Indie Puzzle Match 3</td>\n    </tr>\n    <tr>\n      <th>3</th>\n      <td>422892</td>\n      <td>0.4</td>\n      <td>328100</td>\n      <td>Gunspell - Steam Edition</td>\n      <td>Adventure RPG Indie Puzzle Match 3</td>\n    </tr>\n    <tr>\n      <th>4</th>\n      <td>245491</td>\n      <td>2.2</td>\n      <td>328100</td>\n      <td>Gunspell - Steam Edition</td>\n      <td>Adventure RPG Indie Puzzle Match 3</td>\n    </tr>\n  </tbody>\n</table>\n</div>"
          },
          "metadata": {},
          "execution_count": 128
        }
      ],
      "source": [
        "recomendaciones_usuario = df_11.iloc[:usuario].copy()\n",
        "print(recomendaciones_usuario.shape)\n",
        "recomendaciones_usuario.head()"
      ]
    },
    {
      "cell_type": "code",
      "execution_count": 129,
      "metadata": {},
      "outputs": [
        {
          "output_type": "stream",
          "name": "stdout",
          "text": [
            "(1, 5)\n"
          ]
        },
        {
          "output_type": "execute_result",
          "data": {
            "text/plain": [
              "   users  hours      id                  app_name  \\\n",
              "2  26750   13.2  328100  Gunspell - Steam Edition   \n",
              "\n",
              "                                 tags  \n",
              "2  Adventure RPG Indie Puzzle Match 3  "
            ],
            "text/html": "<div>\n<style scoped>\n    .dataframe tbody tr th:only-of-type {\n        vertical-align: middle;\n    }\n\n    .dataframe tbody tr th {\n        vertical-align: top;\n    }\n\n    .dataframe thead th {\n        text-align: right;\n    }\n</style>\n<table border=\"1\" class=\"dataframe\">\n  <thead>\n    <tr style=\"text-align: right;\">\n      <th></th>\n      <th>users</th>\n      <th>hours</th>\n      <th>id</th>\n      <th>app_name</th>\n      <th>tags</th>\n    </tr>\n  </thead>\n  <tbody>\n    <tr>\n      <th>2</th>\n      <td>26750</td>\n      <td>13.2</td>\n      <td>328100</td>\n      <td>Gunspell - Steam Edition</td>\n      <td>Adventure RPG Indie Puzzle Match 3</td>\n    </tr>\n  </tbody>\n</table>\n</div>"
          },
          "metadata": {},
          "execution_count": 129
        }
      ],
      "source": [
        "usuario_vistas = df_11[df_11['users'] == usuario]\n",
        "print(usuario_vistas.shape)\n",
        "usuario_vistas.head()"
      ]
    },
    {
      "cell_type": "code",
      "execution_count": 130,
      "metadata": {},
      "outputs": [],
      "source": [
        "recomendaciones_usuario['Estimate_Score'] = recomendaciones_usuario['id'].apply(lambda x: algo.predict(usuario, x).est)"
      ]
    },
    {
      "cell_type": "code",
      "execution_count": 131,
      "metadata": {},
      "outputs": [
        {
          "output_type": "stream",
          "name": "stdout",
          "text": [
            "Las recomendaciones para el usuario y sus scores son:\n\n       users  hours      id            app_name  \\\n5000  265697   58.7  271590  Grand Theft Auto V   \n4823  508282   71.9  271590  Grand Theft Auto V   \n4849  116114   68.6  271590  Grand Theft Auto V   \n4848  371006  103.1  271590  Grand Theft Auto V   \n4847    2831   65.0  271590  Grand Theft Auto V   \n4846   41539  159.0  271590  Grand Theft Auto V   \n4845  232057   16.7  271590  Grand Theft Auto V   \n4844  349489   66.7  271590  Grand Theft Auto V   \n4843  277564    0.4  271590  Grand Theft Auto V   \n4842  247051   52.7  271590  Grand Theft Auto V   \n\n                                                   tags  Estimate_Score  \n5000  Open World Action Multiplayer First-Person Thi...        3.596736  \n4823  Open World Action Multiplayer First-Person Thi...        3.596736  \n4849  Open World Action Multiplayer First-Person Thi...        3.596736  \n4848  Open World Action Multiplayer First-Person Thi...        3.596736  \n4847  Open World Action Multiplayer First-Person Thi...        3.596736  \n4846  Open World Action Multiplayer First-Person Thi...        3.596736  \n4845  Open World Action Multiplayer First-Person Thi...        3.596736  \n4844  Open World Action Multiplayer First-Person Thi...        3.596736  \n4843  Open World Action Multiplayer First-Person Thi...        3.596736  \n4842  Open World Action Multiplayer First-Person Thi...        3.596736  \n"
          ]
        }
      ],
      "source": [
        "print(f'Las recomendaciones para el usuario y sus scores son:\\n')\n",
        "recomendaciones_usuario = recomendaciones_usuario.sort_values('Estimate_Score', ascending=False)\n",
        "print(recomendaciones_usuario.head(10))"
      ]
    },
    {
      "source": [
        "---"
      ],
      "cell_type": "markdown",
      "metadata": {}
    },
    {
      "source": [
        "## Multilabel Encoder y TFIDF"
      ],
      "cell_type": "markdown",
      "metadata": {}
    },
    {
      "source": [
        "* Vamos hacer un multilabel encoder para los tags y vectorizarlos con TFIDF\n",
        "* Luego vamos a haer una clasificacion logistica\n",
        "* Finalmente obtendremos los géneros actuales y los mas importante los géneros que nos recomienda"
      ],
      "cell_type": "markdown",
      "metadata": {}
    },
    {
      "cell_type": "code",
      "execution_count": 132,
      "metadata": {},
      "outputs": [],
      "source": [
        "from sklearn.preprocessing import MultiLabelBinarizer\n",
        "mlb = MultiLabelBinarizer()"
      ]
    },
    {
      "cell_type": "code",
      "execution_count": 133,
      "metadata": {},
      "outputs": [
        {
          "output_type": "execute_result",
          "data": {
            "text/plain": [
              "    users  hours      id                  app_name  \\\n",
              "0   62225    0.1  725280               Psi Project   \n",
              "1  431962    0.1  725280               Psi Project   \n",
              "2   26750   13.2  328100  Gunspell - Steam Edition   \n",
              "3  422892    0.4  328100  Gunspell - Steam Edition   \n",
              "4  245491    2.2  328100  Gunspell - Steam Edition   \n",
              "\n",
              "                                       tags  \n",
              "0    [Action, Adventure, Indie, Simulation]  \n",
              "1    [Action, Adventure, Indie, Simulation]  \n",
              "2  [Adventure, RPG, Indie, Puzzle, Match 3]  \n",
              "3  [Adventure, RPG, Indie, Puzzle, Match 3]  \n",
              "4  [Adventure, RPG, Indie, Puzzle, Match 3]  "
            ],
            "text/html": "<div>\n<style scoped>\n    .dataframe tbody tr th:only-of-type {\n        vertical-align: middle;\n    }\n\n    .dataframe tbody tr th {\n        vertical-align: top;\n    }\n\n    .dataframe thead th {\n        text-align: right;\n    }\n</style>\n<table border=\"1\" class=\"dataframe\">\n  <thead>\n    <tr style=\"text-align: right;\">\n      <th></th>\n      <th>users</th>\n      <th>hours</th>\n      <th>id</th>\n      <th>app_name</th>\n      <th>tags</th>\n    </tr>\n  </thead>\n  <tbody>\n    <tr>\n      <th>0</th>\n      <td>62225</td>\n      <td>0.1</td>\n      <td>725280</td>\n      <td>Psi Project</td>\n      <td>[Action, Adventure, Indie, Simulation]</td>\n    </tr>\n    <tr>\n      <th>1</th>\n      <td>431962</td>\n      <td>0.1</td>\n      <td>725280</td>\n      <td>Psi Project</td>\n      <td>[Action, Adventure, Indie, Simulation]</td>\n    </tr>\n    <tr>\n      <th>2</th>\n      <td>26750</td>\n      <td>13.2</td>\n      <td>328100</td>\n      <td>Gunspell - Steam Edition</td>\n      <td>[Adventure, RPG, Indie, Puzzle, Match 3]</td>\n    </tr>\n    <tr>\n      <th>3</th>\n      <td>422892</td>\n      <td>0.4</td>\n      <td>328100</td>\n      <td>Gunspell - Steam Edition</td>\n      <td>[Adventure, RPG, Indie, Puzzle, Match 3]</td>\n    </tr>\n    <tr>\n      <th>4</th>\n      <td>245491</td>\n      <td>2.2</td>\n      <td>328100</td>\n      <td>Gunspell - Steam Edition</td>\n      <td>[Adventure, RPG, Indie, Puzzle, Match 3]</td>\n    </tr>\n  </tbody>\n</table>\n</div>"
          },
          "metadata": {},
          "execution_count": 133
        }
      ],
      "source": [
        "dfw = pd.DataFrame(dfw)\n",
        "dfw.head()"
      ]
    },
    {
      "cell_type": "code",
      "execution_count": 134,
      "metadata": {},
      "outputs": [
        {
          "output_type": "execute_result",
          "data": {
            "text/plain": [
              "MultiLabelBinarizer(classes=None, sparse_output=False)"
            ]
          },
          "metadata": {},
          "execution_count": 134
        }
      ],
      "source": [
        "from sklearn.preprocessing import MultiLabelBinarizer\n",
        "multilabel_binarizer = MultiLabelBinarizer()\n",
        "multilabel_binarizer.fit(dfw['tags'])"
      ]
    },
    {
      "cell_type": "code",
      "execution_count": 135,
      "metadata": {},
      "outputs": [
        {
          "output_type": "execute_result",
          "data": {
            "text/plain": [
              "   1990's  2D  3D Platformer  3D Vision  4 Player Local  Abstract  Action  \\\n",
              "0       0   0              0          0               0         0       1   \n",
              "1       0   0              0          0               0         0       1   \n",
              "2       0   0              0          0               0         0       0   \n",
              "3       0   0              0          0               0         0       0   \n",
              "4       0   0              0          0               0         0       0   \n",
              "\n",
              "   Action RPG  Action-Adventure  Adventure  ...  Video Production  Violent  \\\n",
              "0           0                 0          1  ...                 0        0   \n",
              "1           0                 0          1  ...                 0        0   \n",
              "2           0                 0          1  ...                 0        0   \n",
              "3           0                 0          1  ...                 0        0   \n",
              "4           0                 0          1  ...                 0        0   \n",
              "\n",
              "   Visual Novel  Voice Control  Walking Simulator  War  Wargame  World War I  \\\n",
              "0             0              0                  0    0        0            0   \n",
              "1             0              0                  0    0        0            0   \n",
              "2             0              0                  0    0        0            0   \n",
              "3             0              0                  0    0        0            0   \n",
              "4             0              0                  0    0        0            0   \n",
              "\n",
              "   World War II  Zombies  \n",
              "0             0        0  \n",
              "1             0        0  \n",
              "2             0        0  \n",
              "3             0        0  \n",
              "4             0        0  \n",
              "\n",
              "[5 rows x 176 columns]"
            ],
            "text/html": "<div>\n<style scoped>\n    .dataframe tbody tr th:only-of-type {\n        vertical-align: middle;\n    }\n\n    .dataframe tbody tr th {\n        vertical-align: top;\n    }\n\n    .dataframe thead th {\n        text-align: right;\n    }\n</style>\n<table border=\"1\" class=\"dataframe\">\n  <thead>\n    <tr style=\"text-align: right;\">\n      <th></th>\n      <th>1990's</th>\n      <th>2D</th>\n      <th>3D Platformer</th>\n      <th>3D Vision</th>\n      <th>4 Player Local</th>\n      <th>Abstract</th>\n      <th>Action</th>\n      <th>Action RPG</th>\n      <th>Action-Adventure</th>\n      <th>Adventure</th>\n      <th>...</th>\n      <th>Video Production</th>\n      <th>Violent</th>\n      <th>Visual Novel</th>\n      <th>Voice Control</th>\n      <th>Walking Simulator</th>\n      <th>War</th>\n      <th>Wargame</th>\n      <th>World War I</th>\n      <th>World War II</th>\n      <th>Zombies</th>\n    </tr>\n  </thead>\n  <tbody>\n    <tr>\n      <th>0</th>\n      <td>0</td>\n      <td>0</td>\n      <td>0</td>\n      <td>0</td>\n      <td>0</td>\n      <td>0</td>\n      <td>1</td>\n      <td>0</td>\n      <td>0</td>\n      <td>1</td>\n      <td>...</td>\n      <td>0</td>\n      <td>0</td>\n      <td>0</td>\n      <td>0</td>\n      <td>0</td>\n      <td>0</td>\n      <td>0</td>\n      <td>0</td>\n      <td>0</td>\n      <td>0</td>\n    </tr>\n    <tr>\n      <th>1</th>\n      <td>0</td>\n      <td>0</td>\n      <td>0</td>\n      <td>0</td>\n      <td>0</td>\n      <td>0</td>\n      <td>1</td>\n      <td>0</td>\n      <td>0</td>\n      <td>1</td>\n      <td>...</td>\n      <td>0</td>\n      <td>0</td>\n      <td>0</td>\n      <td>0</td>\n      <td>0</td>\n      <td>0</td>\n      <td>0</td>\n      <td>0</td>\n      <td>0</td>\n      <td>0</td>\n    </tr>\n    <tr>\n      <th>2</th>\n      <td>0</td>\n      <td>0</td>\n      <td>0</td>\n      <td>0</td>\n      <td>0</td>\n      <td>0</td>\n      <td>0</td>\n      <td>0</td>\n      <td>0</td>\n      <td>1</td>\n      <td>...</td>\n      <td>0</td>\n      <td>0</td>\n      <td>0</td>\n      <td>0</td>\n      <td>0</td>\n      <td>0</td>\n      <td>0</td>\n      <td>0</td>\n      <td>0</td>\n      <td>0</td>\n    </tr>\n    <tr>\n      <th>3</th>\n      <td>0</td>\n      <td>0</td>\n      <td>0</td>\n      <td>0</td>\n      <td>0</td>\n      <td>0</td>\n      <td>0</td>\n      <td>0</td>\n      <td>0</td>\n      <td>1</td>\n      <td>...</td>\n      <td>0</td>\n      <td>0</td>\n      <td>0</td>\n      <td>0</td>\n      <td>0</td>\n      <td>0</td>\n      <td>0</td>\n      <td>0</td>\n      <td>0</td>\n      <td>0</td>\n    </tr>\n    <tr>\n      <th>4</th>\n      <td>0</td>\n      <td>0</td>\n      <td>0</td>\n      <td>0</td>\n      <td>0</td>\n      <td>0</td>\n      <td>0</td>\n      <td>0</td>\n      <td>0</td>\n      <td>1</td>\n      <td>...</td>\n      <td>0</td>\n      <td>0</td>\n      <td>0</td>\n      <td>0</td>\n      <td>0</td>\n      <td>0</td>\n      <td>0</td>\n      <td>0</td>\n      <td>0</td>\n      <td>0</td>\n    </tr>\n  </tbody>\n</table>\n<p>5 rows × 176 columns</p>\n</div>"
          },
          "metadata": {},
          "execution_count": 135
        }
      ],
      "source": [
        "dfml = pd.DataFrame(mlb.fit_transform(dfw['tags']),columns=mlb.classes_)\n",
        "dfml.head()"
      ]
    },
    {
      "cell_type": "code",
      "execution_count": 136,
      "metadata": {},
      "outputs": [],
      "source": [
        "#list(mlb.classes_)"
      ]
    },
    {
      "cell_type": "code",
      "execution_count": 137,
      "metadata": {},
      "outputs": [],
      "source": [
        "dfj = dfw"
      ]
    },
    {
      "cell_type": "code",
      "execution_count": 138,
      "metadata": {},
      "outputs": [
        {
          "output_type": "execute_result",
          "data": {
            "text/plain": [
              "    users  hours      id                  app_name  \\\n",
              "0   62225    0.1  725280               Psi Project   \n",
              "1  431962    0.1  725280               Psi Project   \n",
              "2   26750   13.2  328100  Gunspell - Steam Edition   \n",
              "3  422892    0.4  328100  Gunspell - Steam Edition   \n",
              "4  245491    2.2  328100  Gunspell - Steam Edition   \n",
              "\n",
              "                                 tags  \n",
              "0   Action Adventure Indie Simulation  \n",
              "1   Action Adventure Indie Simulation  \n",
              "2  Adventure RPG Indie Puzzle Match 3  \n",
              "3  Adventure RPG Indie Puzzle Match 3  \n",
              "4  Adventure RPG Indie Puzzle Match 3  "
            ],
            "text/html": "<div>\n<style scoped>\n    .dataframe tbody tr th:only-of-type {\n        vertical-align: middle;\n    }\n\n    .dataframe tbody tr th {\n        vertical-align: top;\n    }\n\n    .dataframe thead th {\n        text-align: right;\n    }\n</style>\n<table border=\"1\" class=\"dataframe\">\n  <thead>\n    <tr style=\"text-align: right;\">\n      <th></th>\n      <th>users</th>\n      <th>hours</th>\n      <th>id</th>\n      <th>app_name</th>\n      <th>tags</th>\n    </tr>\n  </thead>\n  <tbody>\n    <tr>\n      <th>0</th>\n      <td>62225</td>\n      <td>0.1</td>\n      <td>725280</td>\n      <td>Psi Project</td>\n      <td>Action Adventure Indie Simulation</td>\n    </tr>\n    <tr>\n      <th>1</th>\n      <td>431962</td>\n      <td>0.1</td>\n      <td>725280</td>\n      <td>Psi Project</td>\n      <td>Action Adventure Indie Simulation</td>\n    </tr>\n    <tr>\n      <th>2</th>\n      <td>26750</td>\n      <td>13.2</td>\n      <td>328100</td>\n      <td>Gunspell - Steam Edition</td>\n      <td>Adventure RPG Indie Puzzle Match 3</td>\n    </tr>\n    <tr>\n      <th>3</th>\n      <td>422892</td>\n      <td>0.4</td>\n      <td>328100</td>\n      <td>Gunspell - Steam Edition</td>\n      <td>Adventure RPG Indie Puzzle Match 3</td>\n    </tr>\n    <tr>\n      <th>4</th>\n      <td>245491</td>\n      <td>2.2</td>\n      <td>328100</td>\n      <td>Gunspell - Steam Edition</td>\n      <td>Adventure RPG Indie Puzzle Match 3</td>\n    </tr>\n  </tbody>\n</table>\n</div>"
          },
          "metadata": {},
          "execution_count": 138
        }
      ],
      "source": [
        "dfj['tags']=[\" \".join(tags) for tags in dfw['tags'].values]\n",
        "dfj.head()"
      ]
    },
    {
      "cell_type": "code",
      "execution_count": 139,
      "metadata": {},
      "outputs": [],
      "source": [
        "from sklearn.feature_extraction.text import TfidfVectorizer,CountVectorizer"
      ]
    },
    {
      "cell_type": "code",
      "execution_count": 140,
      "metadata": {},
      "outputs": [],
      "source": [
        "tfidf_vectorizer = TfidfVectorizer(max_df=0.8, max_features=10000)"
      ]
    },
    {
      "cell_type": "code",
      "execution_count": 141,
      "metadata": {},
      "outputs": [],
      "source": [
        "# split dataset into training and validation set\n",
        "xtrain, xval, ytrain, yval = train_test_split(dfj['tags'], dfml, test_size=0.2, random_state=9)"
      ]
    },
    {
      "cell_type": "code",
      "execution_count": 142,
      "metadata": {},
      "outputs": [],
      "source": [
        "# create TF-IDF features\n",
        "xtrain_tfidf = tfidf_vectorizer.fit_transform(xtrain)\n",
        "xval_tfidf = tfidf_vectorizer.transform(xval)"
      ]
    },
    {
      "cell_type": "code",
      "execution_count": 143,
      "metadata": {},
      "outputs": [],
      "source": [
        "from sklearn.linear_model import LogisticRegression\n",
        "\n",
        "# Binary Relevance\n",
        "from sklearn.multiclass import OneVsRestClassifier\n",
        "\n",
        "# Performance metric\n",
        "from sklearn.metrics import f1_score"
      ]
    },
    {
      "cell_type": "code",
      "execution_count": 144,
      "metadata": {},
      "outputs": [],
      "source": [
        "lr = LogisticRegression()\n",
        "clf = OneVsRestClassifier(lr)"
      ]
    },
    {
      "cell_type": "code",
      "execution_count": 145,
      "metadata": {},
      "outputs": [
        {
          "output_type": "execute_result",
          "data": {
            "text/plain": [
              "OneVsRestClassifier(estimator=LogisticRegression(C=1.0, class_weight=None,\n",
              "                                                 dual=False, fit_intercept=True,\n",
              "                                                 intercept_scaling=1,\n",
              "                                                 l1_ratio=None, max_iter=100,\n",
              "                                                 multi_class='auto',\n",
              "                                                 n_jobs=None, penalty='l2',\n",
              "                                                 random_state=None,\n",
              "                                                 solver='lbfgs', tol=0.0001,\n",
              "                                                 verbose=0, warm_start=False),\n",
              "                    n_jobs=None)"
            ]
          },
          "metadata": {},
          "execution_count": 145
        }
      ],
      "source": [
        "# fit model on train data\n",
        "clf.fit(xtrain_tfidf, ytrain)"
      ]
    },
    {
      "cell_type": "code",
      "execution_count": 146,
      "metadata": {},
      "outputs": [],
      "source": [
        "y_pred = clf.predict(xval_tfidf)"
      ]
    },
    {
      "cell_type": "code",
      "execution_count": 147,
      "metadata": {},
      "outputs": [
        {
          "output_type": "execute_result",
          "data": {
            "text/plain": [
              "array([0, 0, 0, 0, 0, 0, 1, 0, 0, 1, 0, 0, 0, 0, 0, 0, 0, 0, 1, 0, 0, 0,\n",
              "       0, 0, 0, 0, 0, 0, 0, 0, 0, 0, 0, 1, 0, 1, 0, 0, 0, 0, 1, 0, 0, 0,\n",
              "       0, 0, 0, 0, 0, 0, 0, 0, 0, 0, 0, 0, 0, 0, 0, 0, 0, 1, 0, 0, 1, 0,\n",
              "       0, 0, 0, 1, 0, 0, 0, 0, 0, 0, 0, 0, 0, 0, 0, 0, 0, 0, 0, 0, 0, 0,\n",
              "       0, 1, 0, 0, 0, 0, 1, 0, 0, 1, 0, 0, 0, 1, 0, 0, 0, 0, 0, 0, 0, 0,\n",
              "       0, 0, 0, 0, 0, 1, 0, 0, 1, 0, 0, 0, 0, 0, 0, 0, 0, 0, 1, 0, 0, 1,\n",
              "       0, 0, 0, 1, 0, 0, 0, 0, 0, 0, 0, 0, 0, 0, 0, 0, 0, 0, 0, 0, 1, 1,\n",
              "       0, 0, 0, 0, 0, 0, 0, 0, 0, 0, 0, 0, 0, 0, 0, 0, 0, 0, 0, 0, 0, 0])"
            ]
          },
          "metadata": {},
          "execution_count": 147
        }
      ],
      "source": [
        "y_pred[3]"
      ]
    },
    {
      "source": [
        "## Vemos un ejemplo de los generos recomendados"
      ],
      "cell_type": "markdown",
      "metadata": {}
    },
    {
      "cell_type": "code",
      "execution_count": 148,
      "metadata": {},
      "outputs": [
        {
          "output_type": "execute_result",
          "data": {
            "text/plain": [
              "('Action',\n",
              " 'Adventure',\n",
              " 'Atmospheric',\n",
              " 'Co-op',\n",
              " 'Comedy',\n",
              " 'Crime',\n",
              " 'First-Person',\n",
              " 'Funny',\n",
              " 'Great Soundtrack',\n",
              " 'Mature',\n",
              " 'Moddable',\n",
              " 'Multiplayer',\n",
              " 'Open World',\n",
              " 'RPG',\n",
              " 'Racing',\n",
              " 'Sandbox',\n",
              " 'Shooter',\n",
              " 'Singleplayer',\n",
              " 'Third Person',\n",
              " 'Third-Person Shooter')"
            ]
          },
          "metadata": {},
          "execution_count": 148
        }
      ],
      "source": [
        "multilabel_binarizer.inverse_transform(y_pred)[2]"
      ]
    },
    {
      "cell_type": "code",
      "execution_count": 149,
      "metadata": {},
      "outputs": [
        {
          "output_type": "execute_result",
          "data": {
            "text/plain": [
              "0.9979077594833076"
            ]
          },
          "metadata": {},
          "execution_count": 149
        }
      ],
      "source": [
        "f1_score(yval, y_pred, average=\"micro\")"
      ]
    },
    {
      "cell_type": "code",
      "execution_count": 150,
      "metadata": {},
      "outputs": [],
      "source": [
        "y_pred_prob = clf.predict_proba(xval_tfidf)"
      ]
    },
    {
      "cell_type": "code",
      "execution_count": 151,
      "metadata": {},
      "outputs": [],
      "source": [
        "t = 0.3 \n",
        "y_pred_new = (y_pred_prob >= t).astype(int)"
      ]
    },
    {
      "cell_type": "code",
      "execution_count": 152,
      "metadata": {},
      "outputs": [],
      "source": [
        "def clean_text(text):\n",
        "    # remove backslash-apostrophe \n",
        "    text = re.sub(\"\\'\", \"\", text) \n",
        "    # remove everything except alphabets \n",
        "    text = re.sub(\"[^a-zA-Z]\",\" \",text) \n",
        "    # remove whitespaces \n",
        "    text = ' '.join(text.split()) \n",
        "    # convert text to lowercase \n",
        "    text = text.lower() \n",
        "    return text"
      ]
    },
    {
      "cell_type": "code",
      "execution_count": 153,
      "metadata": {},
      "outputs": [],
      "source": [
        "def infer_tags(q):\n",
        "    q_vec = tfidf_vectorizer.transform([q])\n",
        "    q_pred = clf.predict(q_vec)\n",
        "    return multilabel_binarizer.inverse_transform(q_pred)"
      ]
    },
    {
      "cell_type": "code",
      "execution_count": 154,
      "metadata": {},
      "outputs": [
        {
          "output_type": "stream",
          "name": "stdout",
          "text": [
            "\n Juego: Back to Bed \n \nGenero Predecido:  [('Action', 'Casual', 'Indie', 'Isometric', 'Puzzle', 'Singleplayer', 'Surreal')]\n\nGenero Actual:  ['Indie', 'Puzzle', 'Casual', 'Surreal', 'Action', 'Isometric', 'Singleplayer'] \n\n\n Juego: Grand Theft Auto V \n \nGenero Predecido:  [('Action', 'Adventure', 'Atmospheric', 'Co-op', 'Comedy', 'Crime', 'First-Person', 'Funny', 'Great Soundtrack', 'Mature', 'Moddable', 'Multiplayer', 'Open World', 'RPG', 'Racing', 'Sandbox', 'Shooter', 'Singleplayer', 'Third Person', 'Third-Person Shooter')]\n\nGenero Actual:  ['Open World', 'Action', 'Multiplayer', 'First-Person', 'Third Person', 'Crime', 'Adventure', 'Shooter', 'Third-Person Shooter', 'Singleplayer', 'Racing', 'Mature', 'Atmospheric', 'Sandbox', 'Co-op', 'Great Soundtrack', 'Funny', 'Comedy', 'Moddable', 'RPG'] \n\n\n Juego: FINAL FANTASY® XIII-2 \n \nGenero Predecido:  [('Action', 'Action RPG', 'Adventure', 'Anime', 'Atmospheric', 'Cinematic', 'Fantasy', 'Female Protagonist', 'Great Soundtrack', 'JRPG', 'Linear', 'Open World', 'RPG', 'Sci-fi', 'Singleplayer', 'Story Rich', 'Third Person', 'Time Travel', 'Turn-Based', 'Turn-Based Combat')]\n\nGenero Actual:  ['JRPG', 'RPG', 'Fantasy', 'Singleplayer', 'Female Protagonist', 'Great Soundtrack', 'Story Rich', 'Anime', 'Adventure', 'Time Travel', 'Sci-fi', 'Action', 'Third Person', 'Open World', 'Action RPG', 'Cinematic', 'Turn-Based', 'Linear', 'Atmospheric', 'Turn-Based Combat'] \n\n\n Juego: Who's Your Daddy \n \nGenero Predecido:  [('Action', 'Adventure', 'Atmospheric', 'Casual', 'Co-op', 'Comedy', 'Dark Humor', 'Difficult', 'FPS', 'First-Person', 'Funny', 'Indie', 'Multiplayer', 'Online Co-Op', 'Sandbox', 'Simulation', 'Singleplayer', 'Strategy', 'Survival', 'Walking Simulator')]\n\nGenero Actual:  ['Funny', 'Multiplayer', 'First-Person', 'Comedy', 'Simulation', 'Strategy', 'Online Co-Op', 'Casual', 'Dark Humor', 'Co-op', 'Indie', 'Action', 'Difficult', 'Survival', 'Walking Simulator', 'Adventure', 'Sandbox', 'Singleplayer', 'Atmospheric', 'FPS'] \n\n\n Juego: Grand Theft Auto V \n \nGenero Predecido:  [('Action', 'Adventure', 'Atmospheric', 'Co-op', 'Comedy', 'Crime', 'First-Person', 'Funny', 'Great Soundtrack', 'Mature', 'Moddable', 'Multiplayer', 'Open World', 'RPG', 'Racing', 'Sandbox', 'Shooter', 'Singleplayer', 'Third Person', 'Third-Person Shooter')]\n\nGenero Actual:  ['Open World', 'Action', 'Multiplayer', 'First-Person', 'Third Person', 'Crime', 'Adventure', 'Shooter', 'Third-Person Shooter', 'Singleplayer', 'Racing', 'Mature', 'Atmospheric', 'Sandbox', 'Co-op', 'Great Soundtrack', 'Funny', 'Comedy', 'Moddable', 'RPG'] \n\n"
          ]
        }
      ],
      "source": [
        "for i in range(5): \n",
        "  k = xval.sample(1).index[0] \n",
        "  print(\"\\n\", \"Juego:\", dfx['app_name'][k], \"\\n\", \"\\nGenero Predecido: \", infer_tags(xval[k])),\"\\n\", \"\\n\", print(\"\\nGenero Actual: \",dfx['tags'][k], \"\\n\")"
      ]
    },
    {
      "source": [
        "---"
      ],
      "cell_type": "markdown",
      "metadata": {}
    },
    {
      "cell_type": "code",
      "execution_count": null,
      "metadata": {},
      "outputs": [],
      "source": []
    },
    {
      "source": [
        "---"
      ],
      "cell_type": "markdown",
      "metadata": {}
    },
    {
      "source": [
        "## Recomendación con TFIDF y Coseno de cercania"
      ],
      "cell_type": "markdown",
      "metadata": {}
    },
    {
      "cell_type": "code",
      "execution_count": 155,
      "metadata": {},
      "outputs": [],
      "source": [
        "df_15 = df[['app_name','tags']]"
      ]
    },
    {
      "cell_type": "code",
      "execution_count": 156,
      "metadata": {},
      "outputs": [
        {
          "output_type": "execute_result",
          "data": {
            "text/plain": [
              "                   app_name                                      tags\n",
              "0               Psi Project    [Action, Adventure, Indie, Simulation]\n",
              "1               Psi Project    [Action, Adventure, Indie, Simulation]\n",
              "2  Gunspell - Steam Edition  [Adventure, RPG, Indie, Puzzle, Match 3]\n",
              "3  Gunspell - Steam Edition  [Adventure, RPG, Indie, Puzzle, Match 3]\n",
              "4  Gunspell - Steam Edition  [Adventure, RPG, Indie, Puzzle, Match 3]"
            ],
            "text/html": "<div>\n<style scoped>\n    .dataframe tbody tr th:only-of-type {\n        vertical-align: middle;\n    }\n\n    .dataframe tbody tr th {\n        vertical-align: top;\n    }\n\n    .dataframe thead th {\n        text-align: right;\n    }\n</style>\n<table border=\"1\" class=\"dataframe\">\n  <thead>\n    <tr style=\"text-align: right;\">\n      <th></th>\n      <th>app_name</th>\n      <th>tags</th>\n    </tr>\n  </thead>\n  <tbody>\n    <tr>\n      <th>0</th>\n      <td>Psi Project</td>\n      <td>[Action, Adventure, Indie, Simulation]</td>\n    </tr>\n    <tr>\n      <th>1</th>\n      <td>Psi Project</td>\n      <td>[Action, Adventure, Indie, Simulation]</td>\n    </tr>\n    <tr>\n      <th>2</th>\n      <td>Gunspell - Steam Edition</td>\n      <td>[Adventure, RPG, Indie, Puzzle, Match 3]</td>\n    </tr>\n    <tr>\n      <th>3</th>\n      <td>Gunspell - Steam Edition</td>\n      <td>[Adventure, RPG, Indie, Puzzle, Match 3]</td>\n    </tr>\n    <tr>\n      <th>4</th>\n      <td>Gunspell - Steam Edition</td>\n      <td>[Adventure, RPG, Indie, Puzzle, Match 3]</td>\n    </tr>\n  </tbody>\n</table>\n</div>"
          },
          "metadata": {},
          "execution_count": 156
        }
      ],
      "source": [
        "df_15.head()"
      ]
    },
    {
      "cell_type": "code",
      "execution_count": 157,
      "metadata": {},
      "outputs": [],
      "source": [
        "df_16 = df_15.truncate( after=30000)"
      ]
    },
    {
      "cell_type": "code",
      "execution_count": 158,
      "metadata": {},
      "outputs": [],
      "source": [
        "df_16.rename(columns={'app_name':'title',\n",
        "                          'tags':'tags'}, \n",
        "                 inplace=True)"
      ]
    },
    {
      "cell_type": "code",
      "execution_count": 159,
      "metadata": {},
      "outputs": [
        {
          "output_type": "execute_result",
          "data": {
            "text/plain": [
              "                      title                                      tags\n",
              "0               Psi Project    [Action, Adventure, Indie, Simulation]\n",
              "1               Psi Project    [Action, Adventure, Indie, Simulation]\n",
              "2  Gunspell - Steam Edition  [Adventure, RPG, Indie, Puzzle, Match 3]\n",
              "3  Gunspell - Steam Edition  [Adventure, RPG, Indie, Puzzle, Match 3]\n",
              "4  Gunspell - Steam Edition  [Adventure, RPG, Indie, Puzzle, Match 3]"
            ],
            "text/html": "<div>\n<style scoped>\n    .dataframe tbody tr th:only-of-type {\n        vertical-align: middle;\n    }\n\n    .dataframe tbody tr th {\n        vertical-align: top;\n    }\n\n    .dataframe thead th {\n        text-align: right;\n    }\n</style>\n<table border=\"1\" class=\"dataframe\">\n  <thead>\n    <tr style=\"text-align: right;\">\n      <th></th>\n      <th>title</th>\n      <th>tags</th>\n    </tr>\n  </thead>\n  <tbody>\n    <tr>\n      <th>0</th>\n      <td>Psi Project</td>\n      <td>[Action, Adventure, Indie, Simulation]</td>\n    </tr>\n    <tr>\n      <th>1</th>\n      <td>Psi Project</td>\n      <td>[Action, Adventure, Indie, Simulation]</td>\n    </tr>\n    <tr>\n      <th>2</th>\n      <td>Gunspell - Steam Edition</td>\n      <td>[Adventure, RPG, Indie, Puzzle, Match 3]</td>\n    </tr>\n    <tr>\n      <th>3</th>\n      <td>Gunspell - Steam Edition</td>\n      <td>[Adventure, RPG, Indie, Puzzle, Match 3]</td>\n    </tr>\n    <tr>\n      <th>4</th>\n      <td>Gunspell - Steam Edition</td>\n      <td>[Adventure, RPG, Indie, Puzzle, Match 3]</td>\n    </tr>\n  </tbody>\n</table>\n</div>"
          },
          "metadata": {},
          "execution_count": 159
        }
      ],
      "source": [
        "df_16.head()"
      ]
    },
    {
      "source": [
        "---"
      ],
      "cell_type": "markdown",
      "metadata": {}
    },
    {
      "cell_type": "code",
      "execution_count": 160,
      "metadata": {},
      "outputs": [],
      "source": [
        "df_50 =  pd.merge(df_1,df_16, right_index=True, left_index=True)"
      ]
    },
    {
      "cell_type": "code",
      "execution_count": 161,
      "metadata": {},
      "outputs": [
        {
          "output_type": "execute_result",
          "data": {
            "text/plain": [
              "    users                     title                                      tags\n",
              "0   62225               Psi Project    [Action, Adventure, Indie, Simulation]\n",
              "1  431962               Psi Project    [Action, Adventure, Indie, Simulation]\n",
              "2   26750  Gunspell - Steam Edition  [Adventure, RPG, Indie, Puzzle, Match 3]\n",
              "3  422892  Gunspell - Steam Edition  [Adventure, RPG, Indie, Puzzle, Match 3]\n",
              "4  245491  Gunspell - Steam Edition  [Adventure, RPG, Indie, Puzzle, Match 3]"
            ],
            "text/html": "<div>\n<style scoped>\n    .dataframe tbody tr th:only-of-type {\n        vertical-align: middle;\n    }\n\n    .dataframe tbody tr th {\n        vertical-align: top;\n    }\n\n    .dataframe thead th {\n        text-align: right;\n    }\n</style>\n<table border=\"1\" class=\"dataframe\">\n  <thead>\n    <tr style=\"text-align: right;\">\n      <th></th>\n      <th>users</th>\n      <th>title</th>\n      <th>tags</th>\n    </tr>\n  </thead>\n  <tbody>\n    <tr>\n      <th>0</th>\n      <td>62225</td>\n      <td>Psi Project</td>\n      <td>[Action, Adventure, Indie, Simulation]</td>\n    </tr>\n    <tr>\n      <th>1</th>\n      <td>431962</td>\n      <td>Psi Project</td>\n      <td>[Action, Adventure, Indie, Simulation]</td>\n    </tr>\n    <tr>\n      <th>2</th>\n      <td>26750</td>\n      <td>Gunspell - Steam Edition</td>\n      <td>[Adventure, RPG, Indie, Puzzle, Match 3]</td>\n    </tr>\n    <tr>\n      <th>3</th>\n      <td>422892</td>\n      <td>Gunspell - Steam Edition</td>\n      <td>[Adventure, RPG, Indie, Puzzle, Match 3]</td>\n    </tr>\n    <tr>\n      <th>4</th>\n      <td>245491</td>\n      <td>Gunspell - Steam Edition</td>\n      <td>[Adventure, RPG, Indie, Puzzle, Match 3]</td>\n    </tr>\n  </tbody>\n</table>\n</div>"
          },
          "metadata": {},
          "execution_count": 161
        }
      ],
      "source": [
        "df_50.head()"
      ]
    },
    {
      "source": [
        "---"
      ],
      "cell_type": "markdown",
      "metadata": {}
    },
    {
      "cell_type": "code",
      "execution_count": 162,
      "metadata": {},
      "outputs": [],
      "source": [
        "df_16['tags']=[\" \".join(tags) for tags in df_16['tags'].values]"
      ]
    },
    {
      "cell_type": "code",
      "execution_count": 163,
      "metadata": {},
      "outputs": [
        {
          "output_type": "execute_result",
          "data": {
            "text/plain": [
              "                      title                                tags\n",
              "0               Psi Project   Action Adventure Indie Simulation\n",
              "1               Psi Project   Action Adventure Indie Simulation\n",
              "2  Gunspell - Steam Edition  Adventure RPG Indie Puzzle Match 3\n",
              "3  Gunspell - Steam Edition  Adventure RPG Indie Puzzle Match 3\n",
              "4  Gunspell - Steam Edition  Adventure RPG Indie Puzzle Match 3"
            ],
            "text/html": "<div>\n<style scoped>\n    .dataframe tbody tr th:only-of-type {\n        vertical-align: middle;\n    }\n\n    .dataframe tbody tr th {\n        vertical-align: top;\n    }\n\n    .dataframe thead th {\n        text-align: right;\n    }\n</style>\n<table border=\"1\" class=\"dataframe\">\n  <thead>\n    <tr style=\"text-align: right;\">\n      <th></th>\n      <th>title</th>\n      <th>tags</th>\n    </tr>\n  </thead>\n  <tbody>\n    <tr>\n      <th>0</th>\n      <td>Psi Project</td>\n      <td>Action Adventure Indie Simulation</td>\n    </tr>\n    <tr>\n      <th>1</th>\n      <td>Psi Project</td>\n      <td>Action Adventure Indie Simulation</td>\n    </tr>\n    <tr>\n      <th>2</th>\n      <td>Gunspell - Steam Edition</td>\n      <td>Adventure RPG Indie Puzzle Match 3</td>\n    </tr>\n    <tr>\n      <th>3</th>\n      <td>Gunspell - Steam Edition</td>\n      <td>Adventure RPG Indie Puzzle Match 3</td>\n    </tr>\n    <tr>\n      <th>4</th>\n      <td>Gunspell - Steam Edition</td>\n      <td>Adventure RPG Indie Puzzle Match 3</td>\n    </tr>\n  </tbody>\n</table>\n</div>"
          },
          "metadata": {},
          "execution_count": 163
        }
      ],
      "source": [
        "df_16.head()"
      ]
    },
    {
      "cell_type": "code",
      "execution_count": 164,
      "metadata": {},
      "outputs": [],
      "source": [
        "df_31 = df_16.groupby(\"title\").sum()"
      ]
    },
    {
      "cell_type": "code",
      "execution_count": 165,
      "metadata": {},
      "outputs": [],
      "source": [
        "df_32 = df_31.reset_index()"
      ]
    },
    {
      "cell_type": "code",
      "execution_count": 166,
      "metadata": {},
      "outputs": [
        {
          "output_type": "execute_result",
          "data": {
            "text/plain": [
              "                   title                                               tags\n",
              "0          A Room Beyond                      Adventure Indie Point & Click\n",
              "1  A Timely Intervention       Casual Adventure Indie RPG Strategy RPGMaker\n",
              "2  A Valley Without Wind  Platformer Action Indie Adventure Procedural G...\n",
              "3            About Elise  Free to Play Adventure Indie Casual Simulation...\n",
              "4                Abscond  Indie Casual Action Singleplayer Atmospheric A..."
            ],
            "text/html": "<div>\n<style scoped>\n    .dataframe tbody tr th:only-of-type {\n        vertical-align: middle;\n    }\n\n    .dataframe tbody tr th {\n        vertical-align: top;\n    }\n\n    .dataframe thead th {\n        text-align: right;\n    }\n</style>\n<table border=\"1\" class=\"dataframe\">\n  <thead>\n    <tr style=\"text-align: right;\">\n      <th></th>\n      <th>title</th>\n      <th>tags</th>\n    </tr>\n  </thead>\n  <tbody>\n    <tr>\n      <th>0</th>\n      <td>A Room Beyond</td>\n      <td>Adventure Indie Point &amp; Click</td>\n    </tr>\n    <tr>\n      <th>1</th>\n      <td>A Timely Intervention</td>\n      <td>Casual Adventure Indie RPG Strategy RPGMaker</td>\n    </tr>\n    <tr>\n      <th>2</th>\n      <td>A Valley Without Wind</td>\n      <td>Platformer Action Indie Adventure Procedural G...</td>\n    </tr>\n    <tr>\n      <th>3</th>\n      <td>About Elise</td>\n      <td>Free to Play Adventure Indie Casual Simulation...</td>\n    </tr>\n    <tr>\n      <th>4</th>\n      <td>Abscond</td>\n      <td>Indie Casual Action Singleplayer Atmospheric A...</td>\n    </tr>\n  </tbody>\n</table>\n</div>"
          },
          "metadata": {},
          "execution_count": 166
        }
      ],
      "source": [
        "df_32.head()"
      ]
    },
    {
      "source": [
        "---"
      ],
      "cell_type": "markdown",
      "metadata": {}
    },
    {
      "source": [
        "## Generamos una matriz para los Géneros"
      ],
      "cell_type": "markdown",
      "metadata": {}
    },
    {
      "cell_type": "code",
      "execution_count": 167,
      "metadata": {},
      "outputs": [],
      "source": [
        "from sklearn.feature_extraction.text import TfidfVectorizer"
      ]
    },
    {
      "cell_type": "code",
      "execution_count": 168,
      "metadata": {},
      "outputs": [],
      "source": [
        "\n",
        "tf = TfidfVectorizer(analyzer='word',ngram_range=(1, 2),min_df=0, stop_words='english')"
      ]
    },
    {
      "cell_type": "code",
      "execution_count": 169,
      "metadata": {},
      "outputs": [],
      "source": [
        "tfidf_matrix = tf.fit_transform(df_32['tags'])"
      ]
    },
    {
      "cell_type": "code",
      "execution_count": 170,
      "metadata": {},
      "outputs": [
        {
          "output_type": "execute_result",
          "data": {
            "text/plain": [
              "(321, 2700)"
            ]
          },
          "metadata": {},
          "execution_count": 170
        }
      ],
      "source": [
        "tfidf_matrix.shape"
      ]
    },
    {
      "source": [
        "## Generamos un coseno de similitud "
      ],
      "cell_type": "markdown",
      "metadata": {}
    },
    {
      "cell_type": "code",
      "execution_count": 171,
      "metadata": {},
      "outputs": [
        {
          "output_type": "execute_result",
          "data": {
            "text/plain": [
              "array([[1.        , 0.14964352, 0.02009376, 0.13641173],\n",
              "       [0.14964352, 1.        , 0.0163904 , 0.13528577],\n",
              "       [0.02009376, 0.0163904 , 1.        , 0.01494113],\n",
              "       [0.13641173, 0.13528577, 0.01494113, 1.        ]])"
            ]
          },
          "metadata": {},
          "execution_count": 171
        }
      ],
      "source": [
        "from sklearn.metrics.pairwise import cosine_similarity\n",
        "cosine_sim = cosine_similarity(tfidf_matrix, tfidf_matrix)\n",
        "cosine_sim[:4, :4]"
      ]
    },
    {
      "cell_type": "code",
      "execution_count": 172,
      "metadata": {},
      "outputs": [],
      "source": [
        "from sklearn.metrics.pairwise import cosine_similarity as cos"
      ]
    },
    {
      "cell_type": "code",
      "execution_count": 173,
      "metadata": {},
      "outputs": [
        {
          "output_type": "execute_result",
          "data": {
            "text/plain": [
              "array([[0.14964352]])"
            ]
          },
          "metadata": {},
          "execution_count": 173
        }
      ],
      "source": [
        "cos(tfidf_matrix[0].reshape(1,-1), tfidf_matrix[1].reshape(1,-1))"
      ]
    },
    {
      "cell_type": "code",
      "execution_count": 174,
      "metadata": {},
      "outputs": [],
      "source": [
        "titles = df_32['title']\n",
        "indices = pd.Series(df_32.index, index=df_32['title'])"
      ]
    },
    {
      "cell_type": "code",
      "execution_count": 175,
      "metadata": {},
      "outputs": [],
      "source": [
        "def genre_recommendations(title):\n",
        "    idx = indices[title]\n",
        "    sim_scores = list(enumerate(cosine_sim[idx]))\n",
        "    sim_scores = sorted(sim_scores,key=lambda x: x[1], reverse=True)\n",
        "    sim_scores = sim_scores[1:21]\n",
        "    movie_indices = [i[0] for i in sim_scores]\n",
        "    return titles.iloc[movie_indices]"
      ]
    },
    {
      "source": [
        "### Vamos a tomar como ejemplo un juego para ver si cada tipo de recomendación funciona de manera similar:\n",
        "\n",
        "* El juego que vamos a elegir es:\n",
        "\n",
        "                * Batman: Arkham Asylum Game of the Year Edition\n",
        "                * id: 25\n",
        "                * Genero: Stealth\n",
        "                * User: 51526"
      ],
      "cell_type": "markdown",
      "metadata": {}
    },
    {
      "source": [
        "---"
      ],
      "cell_type": "markdown",
      "metadata": {}
    },
    {
      "source": [
        "## Recomendación por Juego\n",
        "\n",
        "* Se puede seleccionar un juego y buscar de la recomendación \n",
        "\n",
        "* Por ejemplo: \n",
        "\n",
        "                * Batman: Arkham Asylum Game of the Year Edition\n",
        "                * iLawBreakers\n",
        "                * Who's Your Daddy"
      ],
      "cell_type": "markdown",
      "metadata": {}
    },
    {
      "cell_type": "code",
      "execution_count": 176,
      "metadata": {},
      "outputs": [
        {
          "output_type": "stream",
          "name": "stdout",
          "text": [
            "La recomendación para Batman: Arkham Asylum Game of the Year Edition es: \n\n"
          ]
        },
        {
          "output_type": "execute_result",
          "data": {
            "text/plain": [
              "238    Scribblenauts Unmasked: A DC Comics Adventure\n",
              "151                                     LUMBERMANCER\n",
              "44                     Brothers - A Tale of Two Sons\n",
              "97                                     Freedom Force\n",
              "203                                Prince of Persia®\n",
              "22                           Back to Dinosaur Island\n",
              "227                        Rumble Fighter: Unleashed\n",
              "129                                 House of Caravan\n",
              "132                                       I Am Alive\n",
              "35                                        Black Mist\n",
              "71                          Deus Ex: Mankind Divided\n",
              "121                                      Heart&Slash\n",
              "174                                      Monsterland\n",
              "166                                         MicroSpy\n",
              "17                                         Ascendant\n",
              "42                                        Brawlhalla\n",
              "275                                     The Novelist\n",
              "278                     The Way of Life Free Edition\n",
              "183                        Need for Speed Undercover\n",
              "74                         Disney•Pixar Finding Nemo\n",
              "Name: title, dtype: object"
            ]
          },
          "metadata": {},
          "execution_count": 176
        }
      ],
      "source": [
        "game_play = 'Batman: Arkham Asylum Game of the Year Edition'\n",
        "rp = pd.DataFrame(df_32[df_32['title'].str.match(game_play)].sample().iloc[0:1].title).iloc[0]['title']\n",
        "print(f'La recomendación para {game_play} es: \\n')\n",
        "genre_recommendations(rp).head(20)"
      ]
    },
    {
      "source": [
        "---"
      ],
      "cell_type": "markdown",
      "metadata": {}
    },
    {
      "source": [
        "## Recomendación por ID\n",
        "\n",
        "* Se puede seleccionar el ID del juego y ver su recomendación\n",
        "\n",
        "* Por ejemplo: \n",
        "\n",
        "                * id: 10 /  Alea Jacta Est \n",
        "                * id: 243 / Simulator hipstera 2k17\n",
        "                * id: 302 / WayOut 2: Hex"
      ],
      "cell_type": "markdown",
      "metadata": {}
    },
    {
      "cell_type": "code",
      "execution_count": 177,
      "metadata": {},
      "outputs": [
        {
          "output_type": "stream",
          "name": "stdout",
          "text": [
            "El juego del id número 34 es: Birthdays the Beginning / バースデイズ・ザ・ビギニング\n\n"
          ]
        },
        {
          "output_type": "execute_result",
          "data": {
            "text/plain": [
              "128                                  Hospital Tycoon\n",
              "245                                        Snakebird\n",
              "257                         Stratego - Single Player\n",
              "58                                Creature Factory 2\n",
              "54                  Commands & Colors: The Great War\n",
              "200                                    Poker Night 2\n",
              "282                         Tomb Raider: Anniversary\n",
              "22                           Back to Dinosaur Island\n",
              "104                                  Ghost of a Tale\n",
              "18                                           Asteria\n",
              "19                                     Astral Heroes\n",
              "250                                       Spellstone\n",
              "186                                           Nyheim\n",
              "295                  VEmpire - The Kings of Darkness\n",
              "114                                   Gremlins, Inc.\n",
              "48                                   Castle Explorer\n",
              "67                                   Dead Man's Draw\n",
              "56                                   Costume Quest 2\n",
              "124    Higurashi When They Cry Hou - Ch.1 Onikakushi\n",
              "126                                             Hive\n",
              "Name: title, dtype: object"
            ]
          },
          "metadata": {},
          "execution_count": 177
        }
      ],
      "source": [
        "game_id = 34\n",
        "result_game = df_32.loc[game_id].title\n",
        "print(f'El juego del id número {game_id} es: {result_game}\\n')\n",
        "genre_recommendations(result_game).head(20)"
      ]
    },
    {
      "source": [
        "---"
      ],
      "cell_type": "markdown",
      "metadata": {}
    },
    {
      "source": [
        "## Recomendación por género\n",
        "\n",
        "* Se pueden seleccionar distintos tipos de generos para generar la recomendación. \n",
        "\n",
        "* Por ejemplo: \n",
        "\n",
        "                * 'Racing'\n",
        "                * 'Adventure'\n",
        "                * 'Indie'\n",
        "                * 'Singleplayer'\n",
        "                * 'RPG' "
      ],
      "cell_type": "markdown",
      "metadata": {}
    },
    {
      "cell_type": "code",
      "execution_count": 178,
      "metadata": {},
      "outputs": [
        {
          "output_type": "stream",
          "name": "stdout",
          "text": [
            "El juego del genero Action es: Wooden Sen'SeY\n\n"
          ]
        },
        {
          "output_type": "execute_result",
          "data": {
            "text/plain": [
              "157             Lost Socks: Naughty Brothers\n",
              "69                                Deadly Sky\n",
              "5                                Action Henk\n",
              "171                                     Mint\n",
              "176                My Coloring Book: Animals\n",
              "261                              Superstatic\n",
              "11                            All Evil Night\n",
              "237                                Sacraboar\n",
              "296                               VS Round 1\n",
              "235                             STEEL RIVALS\n",
              "35                                Black Mist\n",
              "101                         Galactic Fighter\n",
              "276                          The Return Home\n",
              "88     Fairies vs. Darklings: Arcane Edition\n",
              "43                         Breakout Invaders\n",
              "166                                 MicroSpy\n",
              "229                                   Runbow\n",
              "317                                   gShift\n",
              "263                                  TRISTOY\n",
              "228                           Run Rabbit Run\n",
              "Name: title, dtype: object"
            ]
          },
          "metadata": {},
          "execution_count": 178
        }
      ],
      "source": [
        "game_genre = 'Action'\n",
        "rg = pd.DataFrame(df_32[df_32['tags'].str.match(game_genre)].sample().iloc[0:1].title).iloc[0]['title']\n",
        "print(f'El juego del genero {game_genre} es: {rg}\\n')\n",
        "genre_recommendations(rg).head(20)"
      ]
    },
    {
      "source": [
        "---"
      ],
      "cell_type": "markdown",
      "metadata": {}
    },
    {
      "source": [
        "## Recomendación por User\n",
        "\n",
        "* Se puede seleccionar un user y buscar de la recomendación \n",
        "\n",
        "* Por ejemplo: \n",
        "\n",
        "                * El user: 51526 jugo Batman: Arkham Asylum Game of the Year Edition \n",
        "            "
      ],
      "cell_type": "markdown",
      "metadata": {}
    },
    {
      "cell_type": "code",
      "execution_count": 179,
      "metadata": {},
      "outputs": [
        {
          "output_type": "stream",
          "name": "stdout",
          "text": [
            "El juego del genero 62225 es: Psi Project\n\n"
          ]
        },
        {
          "output_type": "execute_result",
          "data": {
            "text/plain": [
              "35                                Black Mist\n",
              "166                                 MicroSpy\n",
              "317                                   gShift\n",
              "151                             LUMBERMANCER\n",
              "105          Ghoulboy - Dark Sword of Goblin\n",
              "243                  Simulator hipstera 2k17\n",
              "147                             Jaques Roque\n",
              "268         The Bits That Saved The Universe\n",
              "236                   STLD Redux: Episode 02\n",
              "76     Draft Day Sports: Pro Basketball 2017\n",
              "228                           Run Rabbit Run\n",
              "0                              A Room Beyond\n",
              "6                             Age of Farming\n",
              "189             Off-Road Paradise: Trial 4x4\n",
              "3                                About Elise\n",
              "1                      A Timely Intervention\n",
              "72                               Diamond Dan\n",
              "90                    Farm Frenzy Collection\n",
              "73                              Diaper Dash®\n",
              "140                           Indie Game Sim\n",
              "Name: title, dtype: object"
            ]
          },
          "metadata": {},
          "execution_count": 179
        }
      ],
      "source": [
        "game_users = '62225'\n",
        "df_51 = pd.DataFrame(df_50).applymap(str)\n",
        "ru = pd.DataFrame(df_51[df_51['users'].str.match(game_users)].title).iloc[0]['title']\n",
        "print(f'El juego del genero {game_users} es: {ru}\\n')\n",
        "genre_recommendations(ru).head(20)"
      ]
    },
    {
      "source": [
        "---"
      ],
      "cell_type": "markdown",
      "metadata": {}
    },
    {
      "source": [
        "## Conclusión"
      ],
      "cell_type": "markdown",
      "metadata": {}
    },
    {
      "source": [
        "* Realizamos un sistema de recomendación Utilizando la libreria Surprise, lo cual nos da la posibilidad de:\n",
        "\n",
        "        * Obtener resultados apra el juego seleccionado\n",
        "        * Nos otorga el valor predicho de cada una de las recomendaciones.\n",
        "\n",
        "* Como segunda opción realizamos un sistema de recomendación utilizando la TFIDF y Coseno de similitud, y nos da la posibilidad de:\n",
        "\n",
        "        \n",
        "        * Recomendaciones por ID de juego\n",
        "        * Recomendaciones por género de juego\n",
        "\n",
        "* Como tercera opción realizamos un sistema de recomendación utilizando la Multilabel encoder y TFIDF para darnos la posibilidad de: \n",
        "\n",
        "        * Recomendaciones por género\n",
        "        * Recomendaciones por título de juego\n",
        "        "
      ],
      "cell_type": "markdown",
      "metadata": {}
    },
    {
      "cell_type": "code",
      "execution_count": null,
      "metadata": {},
      "outputs": [],
      "source": []
    },
    {
      "source": [
        "* Sumamos los accuracy de cada sistema:\n",
        "    * Surprise:\n",
        "\n",
        "    "
      ],
      "cell_type": "markdown",
      "metadata": {}
    },
    {
      "cell_type": "code",
      "execution_count": 180,
      "metadata": {},
      "outputs": [
        {
          "output_type": "stream",
          "name": "stdout",
          "text": [
            "RMSE: 1.1864\n"
          ]
        },
        {
          "output_type": "execute_result",
          "data": {
            "text/plain": [
              "1.1864149613827821"
            ]
          },
          "metadata": {},
          "execution_count": 180
        }
      ],
      "source": [
        "accuracy.rmse(predictions)"
      ]
    },
    {
      "source": [
        "* Multilabel Encoder y TFIDF:"
      ],
      "cell_type": "markdown",
      "metadata": {}
    },
    {
      "cell_type": "code",
      "execution_count": 181,
      "metadata": {},
      "outputs": [
        {
          "output_type": "execute_result",
          "data": {
            "text/plain": [
              "0.9979077594833076"
            ]
          },
          "metadata": {},
          "execution_count": 181
        }
      ],
      "source": [
        "f1_score(yval, y_pred, average=\"micro\")"
      ]
    },
    {
      "source": [
        "* Coseno de Similitud y TFIDF:"
      ],
      "cell_type": "markdown",
      "metadata": {}
    },
    {
      "cell_type": "code",
      "execution_count": 182,
      "metadata": {},
      "outputs": [
        {
          "output_type": "execute_result",
          "data": {
            "text/plain": [
              "array([[0.14964352]])"
            ]
          },
          "metadata": {},
          "execution_count": 182
        }
      ],
      "source": [
        "cos(tfidf_matrix[0].reshape(1,-1), tfidf_matrix[1].reshape(1,-1))"
      ]
    },
    {
      "source": [
        "---"
      ],
      "cell_type": "markdown",
      "metadata": {}
    },
    {
      "source": [
        "# thanks!"
      ],
      "cell_type": "markdown",
      "metadata": {}
    },
    {
      "cell_type": "code",
      "execution_count": null,
      "metadata": {},
      "outputs": [],
      "source": []
    }
  ]
}